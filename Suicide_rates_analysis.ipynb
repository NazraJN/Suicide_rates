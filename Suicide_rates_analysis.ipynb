{
  "cells": [
    {
      "cell_type": "markdown",
      "metadata": {
        "id": "view-in-github",
        "colab_type": "text"
      },
      "source": [
        "<a href=\"https://colab.research.google.com/github/NazraJN/Suicide_rates/blob/main/Suicide_rates_analysis.ipynb\" target=\"_parent\"><img src=\"https://colab.research.google.com/assets/colab-badge.svg\" alt=\"Open In Colab\"/></a>"
      ]
    },
    {
      "cell_type": "markdown",
      "metadata": {
        "id": "HYqhE3-nwWIV"
      },
      "source": [
        "# **Suicide rates analysis**"
      ]
    },
    {
      "cell_type": "markdown",
      "metadata": {
        "id": "5f4a6TpQdmyL"
      },
      "source": [
        "## Overview"
      ]
    },
    {
      "cell_type": "markdown",
      "metadata": {
        "id": "xwdHr8hcdlF3"
      },
      "source": [
        "According to the World Health Organization (WHO), suicide is a significant global public health issue, accounting for more than 1 in every 100 deaths worldwide. The WHO estimates that approximately 800,000 people die by suicide annually, with around 80% of these suicides occurring in low and middle-income countries. A concerning trend is that the global suicide rate is more than twice as high among men as it is among women.\n",
        "\n",
        "Suicide affects all nations and is influenced by factors like mental disorders, depression rates, and overall life satisfaction. Recognizing the need for comprehensive strategies to address this preventable cause of death, the reduction of suicide mortality is a key priority for the WHO. This priority is reflected in the shared goal of the United Nations Sustainable Development Goals (SDGs) and the WHOs Comprehensive Mental Health Action Plan 2013-2023 to reduce the global suicide mortality rate by one third by 2030. This underscores the importance of mental health promotion and suicide prevention efforts as integral components of public health initiatives worldwide."
      ]
    },
    {
      "cell_type": "markdown",
      "metadata": {
        "id": "YXa81vZ17jZC"
      },
      "source": [
        "## Problem statement"
      ]
    },
    {
      "cell_type": "markdown",
      "metadata": {
        "id": "VEmEI3-M7mmx"
      },
      "source": [
        "\n",
        "Despite its profound impact, suicide prevention efforts have not received the same level of attention and resources as other global health issues. To address this gap, a comprehensive understanding of the factors influencing suicide rates is crucial. This project aims to conduct a comprehensive analysis of global suicide rates between 1950 to 2005, focusing on identifying key determinants and patterns within that period. By exploring the relationships between various socio-economic, demographic, and environmental factors, this research seeks to provide insights that can inform targeted interventions and policies to reduce the incidence of suicide today.\n",
        "\n",
        "Stakeholders interested in mental health promotion and suicide prevention efforts, including policymakers, public health officials, mental health organizations, and researchers, can benefit from the findings of this project."
      ]
    },
    {
      "cell_type": "markdown",
      "metadata": {
        "id": "M_wxWod6dsvZ"
      },
      "source": [
        "## Objectives"
      ]
    },
    {
      "cell_type": "markdown",
      "metadata": {
        "id": "5i843MRwdsbP"
      },
      "source": [
        "1. To examine the trend in global suicide rates between 1950 to 2005\n",
        "2. To compare variations in suicide rates by country\n",
        "3. To compare variations in suicide rates by gender"
      ]
    },
    {
      "cell_type": "markdown",
      "metadata": {
        "id": "oTBzwhRId6Mg"
      },
      "source": [
        "## Data understanding"
      ]
    },
    {
      "cell_type": "markdown",
      "metadata": {
        "id": "zC5n_0cLd6Aj"
      },
      "source": [
        "The dataset used in this project is sourced from the World Health Organization. It provides information on age-adjusted suicide rates among males and females from 1950 to 2005.\n",
        "\n",
        "The dataset includes the following features:\n",
        "\n",
        "* **Entity**: The name of the country or region.\n",
        "* **Year**: The year of the recorded data.\n",
        "* **Male suicide rates for selected countries, 1950-2005 (WHO (2005))**: Age-adjusted male suicide rates per 100,000 population for selected countries.\n",
        "* **Female suicide rates for selected countries, 1950-2005 (WHO (2005))**: Age-adjusted female suicide rates per 100,000 population for selected countries"
      ]
    },
    {
      "cell_type": "code",
      "execution_count": null,
      "metadata": {
        "id": "VRYhkc2-YQ2Y"
      },
      "outputs": [],
      "source": [
        "# import necessary libraries\n",
        "import pandas as pd\n",
        "import matplotlib.pyplot as plt\n",
        "import seaborn as sns\n",
        "import json"
      ]
    },
    {
      "cell_type": "code",
      "execution_count": null,
      "metadata": {
        "id": "Qqx7Jyq1YWxq"
      },
      "outputs": [],
      "source": [
        "# load the datasets\n",
        "female_suicide_rates = pd.read_csv('Age_adjusted_female_suicide_rates.csv')\n",
        "male_suicide_rates = pd.read_csv('Age_adjusted_male_suicide_rates.csv')"
      ]
    },
    {
      "cell_type": "code",
      "execution_count": null,
      "metadata": {
        "colab": {
          "base_uri": "https://localhost:8080/"
        },
        "id": "GdfUYDkCO395",
        "outputId": "19b28af6-6a61-4474-ff11-0f5e70ff1050"
      },
      "outputs": [
        {
          "data": {
            "text/plain": [
              "{'name': 'Age-adjusted male suicide rates, 1950-2005 - WHO (2005)',\n",
              " 'title': 'Age-adjusted male suicide rates, 1950-2005 - WHO (2005)',\n",
              " 'id': 21,\n",
              " 'description': 'Age-adjusted suicide rates',\n",
              " 'sources': [{'name': 'World Health Organization (2005)',\n",
              "   'dataPublishedBy': 'Gapminder using data from (i) WHO Violence and Injury Prevention (VIP) and (ii) WHO Global Burden of Disease 2002 and 2004.',\n",
              "   'dataPublisherSource': None,\n",
              "   'link': 'http://spreadsheets.google.com/pub?key=troMumuI0Y6Phpwnj6qXa_A&output=xls',\n",
              "   'retrievedDate': None,\n",
              "   'additionalInfo': 'Age-adjusted suicide rates'}],\n",
              " 'owidTags': ['Suicides'],\n",
              " 'resources': [{'path': 'Age-adjusted male suicide rates, 1950-2005 - WHO (2005).csv',\n",
              "   'schema': {'fields': [{'name': 'Entity', 'type': 'string'},\n",
              "     {'name': 'Year', 'type': 'year'},\n",
              "     {'name': 'Male suicide rates for selected countries, 1950-2005 (WHO (2005))',\n",
              "      'type': 'any',\n",
              "      'description': '',\n",
              "      'owidDisplaySettings': {'unit': 'age-adjusted male suicides per 100,000'}},\n",
              "     {'name': 'Male suicide rate (WHO (2005))',\n",
              "      'type': 'any',\n",
              "      'description': '',\n",
              "      'owidDisplaySettings': {}}]}}]}"
            ]
          },
          "execution_count": 3,
          "metadata": {},
          "output_type": "execute_result"
        }
      ],
      "source": [
        "with open('datapackage.json') as f:\n",
        "   data = json.load(f)\n",
        "data"
      ]
    },
    {
      "cell_type": "markdown",
      "metadata": {
        "id": "ujyarSzQUgn5"
      },
      "source": [
        "Before delving into the analysis of the datasets, preliminary exploration of each dataset individually is important to provide a comprehensive understanding of the data's contents, structure, and key features."
      ]
    },
    {
      "cell_type": "markdown",
      "metadata": {
        "id": "Fb8d6n8kTtaM"
      },
      "source": [
        "### Female suicide rates"
      ]
    },
    {
      "cell_type": "code",
      "execution_count": null,
      "metadata": {
        "colab": {
          "base_uri": "https://localhost:8080/",
          "height": 363
        },
        "id": "U2cfPnbLTflB",
        "outputId": "c90f0446-5dff-4acd-b33d-740715fd2ee8"
      },
      "outputs": [
        {
          "data": {
            "application/vnd.google.colaboratory.intrinsic+json": {
              "summary": "{\n  \"name\": \"female_suicide_rates\",\n  \"rows\": 2504,\n  \"fields\": [\n    {\n      \"column\": \"Entity\",\n      \"properties\": {\n        \"dtype\": \"category\",\n        \"num_unique_values\": 195,\n        \"samples\": [\n          \"Qatar\",\n          \"Belize\",\n          \"Slovenia\"\n        ],\n        \"semantic_type\": \"\",\n        \"description\": \"\"\n      }\n    },\n    {\n      \"column\": \"Year\",\n      \"properties\": {\n        \"dtype\": \"number\",\n        \"std\": 15,\n        \"min\": 1950,\n        \"max\": 2004,\n        \"num_unique_values\": 55,\n        \"samples\": [\n          2002,\n          1970,\n          2003\n        ],\n        \"semantic_type\": \"\",\n        \"description\": \"\"\n      }\n    },\n    {\n      \"column\": \"Female suicide rates for selected countries, 1950-2005 (WHO (2015))\",\n      \"properties\": {\n        \"dtype\": \"number\",\n        \"std\": 3.4444083464127604,\n        \"min\": 0.1800632,\n        \"max\": 21.98324,\n        \"num_unique_values\": 996,\n        \"samples\": [\n          5.752751,\n          5.831119,\n          12.48098\n        ],\n        \"semantic_type\": \"\",\n        \"description\": \"\"\n      }\n    },\n    {\n      \"column\": \"Female suicide rate (WHO (2005))\",\n      \"properties\": {\n        \"dtype\": \"number\",\n        \"std\": 4.107957255265527,\n        \"min\": 0.0244919,\n        \"max\": 26.97296906,\n        \"num_unique_values\": 2504,\n        \"samples\": [\n          13.36652,\n          1.947609,\n          2.76714\n        ],\n        \"semantic_type\": \"\",\n        \"description\": \"\"\n      }\n    }\n  ]\n}",
              "type": "dataframe",
              "variable_name": "female_suicide_rates"
            },
            "text/html": [
              "\n",
              "  <div id=\"df-59b28560-7bf3-439a-a6bb-6af262b48177\" class=\"colab-df-container\">\n",
              "    <div>\n",
              "<style scoped>\n",
              "    .dataframe tbody tr th:only-of-type {\n",
              "        vertical-align: middle;\n",
              "    }\n",
              "\n",
              "    .dataframe tbody tr th {\n",
              "        vertical-align: top;\n",
              "    }\n",
              "\n",
              "    .dataframe thead th {\n",
              "        text-align: right;\n",
              "    }\n",
              "</style>\n",
              "<table border=\"1\" class=\"dataframe\">\n",
              "  <thead>\n",
              "    <tr style=\"text-align: right;\">\n",
              "      <th></th>\n",
              "      <th>Entity</th>\n",
              "      <th>Year</th>\n",
              "      <th>Female suicide rates for selected countries, 1950-2005 (WHO (2015))</th>\n",
              "      <th>Female suicide rate (WHO (2005))</th>\n",
              "    </tr>\n",
              "  </thead>\n",
              "  <tbody>\n",
              "    <tr>\n",
              "      <th>0</th>\n",
              "      <td>Afghanistan</td>\n",
              "      <td>2004</td>\n",
              "      <td>8.630156</td>\n",
              "      <td>8.630156</td>\n",
              "    </tr>\n",
              "    <tr>\n",
              "      <th>1</th>\n",
              "      <td>Albania</td>\n",
              "      <td>2004</td>\n",
              "      <td>6.060875</td>\n",
              "      <td>6.060875</td>\n",
              "    </tr>\n",
              "    <tr>\n",
              "      <th>2</th>\n",
              "      <td>Algeria</td>\n",
              "      <td>2004</td>\n",
              "      <td>4.600765</td>\n",
              "      <td>4.600765</td>\n",
              "    </tr>\n",
              "    <tr>\n",
              "      <th>3</th>\n",
              "      <td>Andorra</td>\n",
              "      <td>2004</td>\n",
              "      <td>2.902797</td>\n",
              "      <td>2.902797</td>\n",
              "    </tr>\n",
              "    <tr>\n",
              "      <th>4</th>\n",
              "      <td>Angola</td>\n",
              "      <td>2004</td>\n",
              "      <td>8.143820</td>\n",
              "      <td>8.143820</td>\n",
              "    </tr>\n",
              "    <tr>\n",
              "      <th>5</th>\n",
              "      <td>Argentina</td>\n",
              "      <td>1966</td>\n",
              "      <td>3.773803</td>\n",
              "      <td>3.773803</td>\n",
              "    </tr>\n",
              "    <tr>\n",
              "      <th>6</th>\n",
              "      <td>Argentina</td>\n",
              "      <td>1967</td>\n",
              "      <td>4.522207</td>\n",
              "      <td>4.522207</td>\n",
              "    </tr>\n",
              "    <tr>\n",
              "      <th>7</th>\n",
              "      <td>Argentina</td>\n",
              "      <td>1968</td>\n",
              "      <td>4.950262</td>\n",
              "      <td>4.950262</td>\n",
              "    </tr>\n",
              "    <tr>\n",
              "      <th>8</th>\n",
              "      <td>Argentina</td>\n",
              "      <td>1969</td>\n",
              "      <td>4.472790</td>\n",
              "      <td>4.472790</td>\n",
              "    </tr>\n",
              "    <tr>\n",
              "      <th>9</th>\n",
              "      <td>Argentina</td>\n",
              "      <td>1970</td>\n",
              "      <td>5.086274</td>\n",
              "      <td>5.086274</td>\n",
              "    </tr>\n",
              "  </tbody>\n",
              "</table>\n",
              "</div>\n",
              "    <div class=\"colab-df-buttons\">\n",
              "\n",
              "  <div class=\"colab-df-container\">\n",
              "    <button class=\"colab-df-convert\" onclick=\"convertToInteractive('df-59b28560-7bf3-439a-a6bb-6af262b48177')\"\n",
              "            title=\"Convert this dataframe to an interactive table.\"\n",
              "            style=\"display:none;\">\n",
              "\n",
              "  <svg xmlns=\"http://www.w3.org/2000/svg\" height=\"24px\" viewBox=\"0 -960 960 960\">\n",
              "    <path d=\"M120-120v-720h720v720H120Zm60-500h600v-160H180v160Zm220 220h160v-160H400v160Zm0 220h160v-160H400v160ZM180-400h160v-160H180v160Zm440 0h160v-160H620v160ZM180-180h160v-160H180v160Zm440 0h160v-160H620v160Z\"/>\n",
              "  </svg>\n",
              "    </button>\n",
              "\n",
              "  <style>\n",
              "    .colab-df-container {\n",
              "      display:flex;\n",
              "      gap: 12px;\n",
              "    }\n",
              "\n",
              "    .colab-df-convert {\n",
              "      background-color: #E8F0FE;\n",
              "      border: none;\n",
              "      border-radius: 50%;\n",
              "      cursor: pointer;\n",
              "      display: none;\n",
              "      fill: #1967D2;\n",
              "      height: 32px;\n",
              "      padding: 0 0 0 0;\n",
              "      width: 32px;\n",
              "    }\n",
              "\n",
              "    .colab-df-convert:hover {\n",
              "      background-color: #E2EBFA;\n",
              "      box-shadow: 0px 1px 2px rgba(60, 64, 67, 0.3), 0px 1px 3px 1px rgba(60, 64, 67, 0.15);\n",
              "      fill: #174EA6;\n",
              "    }\n",
              "\n",
              "    .colab-df-buttons div {\n",
              "      margin-bottom: 4px;\n",
              "    }\n",
              "\n",
              "    [theme=dark] .colab-df-convert {\n",
              "      background-color: #3B4455;\n",
              "      fill: #D2E3FC;\n",
              "    }\n",
              "\n",
              "    [theme=dark] .colab-df-convert:hover {\n",
              "      background-color: #434B5C;\n",
              "      box-shadow: 0px 1px 3px 1px rgba(0, 0, 0, 0.15);\n",
              "      filter: drop-shadow(0px 1px 2px rgba(0, 0, 0, 0.3));\n",
              "      fill: #FFFFFF;\n",
              "    }\n",
              "  </style>\n",
              "\n",
              "    <script>\n",
              "      const buttonEl =\n",
              "        document.querySelector('#df-59b28560-7bf3-439a-a6bb-6af262b48177 button.colab-df-convert');\n",
              "      buttonEl.style.display =\n",
              "        google.colab.kernel.accessAllowed ? 'block' : 'none';\n",
              "\n",
              "      async function convertToInteractive(key) {\n",
              "        const element = document.querySelector('#df-59b28560-7bf3-439a-a6bb-6af262b48177');\n",
              "        const dataTable =\n",
              "          await google.colab.kernel.invokeFunction('convertToInteractive',\n",
              "                                                    [key], {});\n",
              "        if (!dataTable) return;\n",
              "\n",
              "        const docLinkHtml = 'Like what you see? Visit the ' +\n",
              "          '<a target=\"_blank\" href=https://colab.research.google.com/notebooks/data_table.ipynb>data table notebook</a>'\n",
              "          + ' to learn more about interactive tables.';\n",
              "        element.innerHTML = '';\n",
              "        dataTable['output_type'] = 'display_data';\n",
              "        await google.colab.output.renderOutput(dataTable, element);\n",
              "        const docLink = document.createElement('div');\n",
              "        docLink.innerHTML = docLinkHtml;\n",
              "        element.appendChild(docLink);\n",
              "      }\n",
              "    </script>\n",
              "  </div>\n",
              "\n",
              "\n",
              "<div id=\"df-73075b0a-9ce7-45f0-9195-80887c020ffc\">\n",
              "  <button class=\"colab-df-quickchart\" onclick=\"quickchart('df-73075b0a-9ce7-45f0-9195-80887c020ffc')\"\n",
              "            title=\"Suggest charts\"\n",
              "            style=\"display:none;\">\n",
              "\n",
              "<svg xmlns=\"http://www.w3.org/2000/svg\" height=\"24px\"viewBox=\"0 0 24 24\"\n",
              "     width=\"24px\">\n",
              "    <g>\n",
              "        <path d=\"M19 3H5c-1.1 0-2 .9-2 2v14c0 1.1.9 2 2 2h14c1.1 0 2-.9 2-2V5c0-1.1-.9-2-2-2zM9 17H7v-7h2v7zm4 0h-2V7h2v10zm4 0h-2v-4h2v4z\"/>\n",
              "    </g>\n",
              "</svg>\n",
              "  </button>\n",
              "\n",
              "<style>\n",
              "  .colab-df-quickchart {\n",
              "      --bg-color: #E8F0FE;\n",
              "      --fill-color: #1967D2;\n",
              "      --hover-bg-color: #E2EBFA;\n",
              "      --hover-fill-color: #174EA6;\n",
              "      --disabled-fill-color: #AAA;\n",
              "      --disabled-bg-color: #DDD;\n",
              "  }\n",
              "\n",
              "  [theme=dark] .colab-df-quickchart {\n",
              "      --bg-color: #3B4455;\n",
              "      --fill-color: #D2E3FC;\n",
              "      --hover-bg-color: #434B5C;\n",
              "      --hover-fill-color: #FFFFFF;\n",
              "      --disabled-bg-color: #3B4455;\n",
              "      --disabled-fill-color: #666;\n",
              "  }\n",
              "\n",
              "  .colab-df-quickchart {\n",
              "    background-color: var(--bg-color);\n",
              "    border: none;\n",
              "    border-radius: 50%;\n",
              "    cursor: pointer;\n",
              "    display: none;\n",
              "    fill: var(--fill-color);\n",
              "    height: 32px;\n",
              "    padding: 0;\n",
              "    width: 32px;\n",
              "  }\n",
              "\n",
              "  .colab-df-quickchart:hover {\n",
              "    background-color: var(--hover-bg-color);\n",
              "    box-shadow: 0 1px 2px rgba(60, 64, 67, 0.3), 0 1px 3px 1px rgba(60, 64, 67, 0.15);\n",
              "    fill: var(--button-hover-fill-color);\n",
              "  }\n",
              "\n",
              "  .colab-df-quickchart-complete:disabled,\n",
              "  .colab-df-quickchart-complete:disabled:hover {\n",
              "    background-color: var(--disabled-bg-color);\n",
              "    fill: var(--disabled-fill-color);\n",
              "    box-shadow: none;\n",
              "  }\n",
              "\n",
              "  .colab-df-spinner {\n",
              "    border: 2px solid var(--fill-color);\n",
              "    border-color: transparent;\n",
              "    border-bottom-color: var(--fill-color);\n",
              "    animation:\n",
              "      spin 1s steps(1) infinite;\n",
              "  }\n",
              "\n",
              "  @keyframes spin {\n",
              "    0% {\n",
              "      border-color: transparent;\n",
              "      border-bottom-color: var(--fill-color);\n",
              "      border-left-color: var(--fill-color);\n",
              "    }\n",
              "    20% {\n",
              "      border-color: transparent;\n",
              "      border-left-color: var(--fill-color);\n",
              "      border-top-color: var(--fill-color);\n",
              "    }\n",
              "    30% {\n",
              "      border-color: transparent;\n",
              "      border-left-color: var(--fill-color);\n",
              "      border-top-color: var(--fill-color);\n",
              "      border-right-color: var(--fill-color);\n",
              "    }\n",
              "    40% {\n",
              "      border-color: transparent;\n",
              "      border-right-color: var(--fill-color);\n",
              "      border-top-color: var(--fill-color);\n",
              "    }\n",
              "    60% {\n",
              "      border-color: transparent;\n",
              "      border-right-color: var(--fill-color);\n",
              "    }\n",
              "    80% {\n",
              "      border-color: transparent;\n",
              "      border-right-color: var(--fill-color);\n",
              "      border-bottom-color: var(--fill-color);\n",
              "    }\n",
              "    90% {\n",
              "      border-color: transparent;\n",
              "      border-bottom-color: var(--fill-color);\n",
              "    }\n",
              "  }\n",
              "</style>\n",
              "\n",
              "  <script>\n",
              "    async function quickchart(key) {\n",
              "      const quickchartButtonEl =\n",
              "        document.querySelector('#' + key + ' button');\n",
              "      quickchartButtonEl.disabled = true;  // To prevent multiple clicks.\n",
              "      quickchartButtonEl.classList.add('colab-df-spinner');\n",
              "      try {\n",
              "        const charts = await google.colab.kernel.invokeFunction(\n",
              "            'suggestCharts', [key], {});\n",
              "      } catch (error) {\n",
              "        console.error('Error during call to suggestCharts:', error);\n",
              "      }\n",
              "      quickchartButtonEl.classList.remove('colab-df-spinner');\n",
              "      quickchartButtonEl.classList.add('colab-df-quickchart-complete');\n",
              "    }\n",
              "    (() => {\n",
              "      let quickchartButtonEl =\n",
              "        document.querySelector('#df-73075b0a-9ce7-45f0-9195-80887c020ffc button');\n",
              "      quickchartButtonEl.style.display =\n",
              "        google.colab.kernel.accessAllowed ? 'block' : 'none';\n",
              "    })();\n",
              "  </script>\n",
              "</div>\n",
              "\n",
              "    </div>\n",
              "  </div>\n"
            ],
            "text/plain": [
              "        Entity  Year  \\\n",
              "0  Afghanistan  2004   \n",
              "1      Albania  2004   \n",
              "2      Algeria  2004   \n",
              "3      Andorra  2004   \n",
              "4       Angola  2004   \n",
              "5    Argentina  1966   \n",
              "6    Argentina  1967   \n",
              "7    Argentina  1968   \n",
              "8    Argentina  1969   \n",
              "9    Argentina  1970   \n",
              "\n",
              "   Female suicide rates for selected countries, 1950-2005 (WHO (2015))  \\\n",
              "0                                           8.630156                     \n",
              "1                                           6.060875                     \n",
              "2                                           4.600765                     \n",
              "3                                           2.902797                     \n",
              "4                                           8.143820                     \n",
              "5                                           3.773803                     \n",
              "6                                           4.522207                     \n",
              "7                                           4.950262                     \n",
              "8                                           4.472790                     \n",
              "9                                           5.086274                     \n",
              "\n",
              "   Female suicide rate (WHO (2005))  \n",
              "0                          8.630156  \n",
              "1                          6.060875  \n",
              "2                          4.600765  \n",
              "3                          2.902797  \n",
              "4                          8.143820  \n",
              "5                          3.773803  \n",
              "6                          4.522207  \n",
              "7                          4.950262  \n",
              "8                          4.472790  \n",
              "9                          5.086274  "
            ]
          },
          "execution_count": 4,
          "metadata": {},
          "output_type": "execute_result"
        }
      ],
      "source": [
        "# preview first 10 rows\n",
        "female_suicide_rates.head(10)"
      ]
    },
    {
      "cell_type": "code",
      "execution_count": null,
      "metadata": {
        "colab": {
          "base_uri": "https://localhost:8080/",
          "height": 363
        },
        "id": "aSAnlZmyUKip",
        "outputId": "d2c1b971-ade1-45ff-8f54-09742e7bb08b"
      },
      "outputs": [
        {
          "data": {
            "application/vnd.google.colaboratory.intrinsic+json": {
              "summary": "{\n  \"name\": \"female_suicide_rates\",\n  \"rows\": 10,\n  \"fields\": [\n    {\n      \"column\": \"Entity\",\n      \"properties\": {\n        \"dtype\": \"category\",\n        \"num_unique_values\": 3,\n        \"samples\": [\n          \"Yugoslavia\",\n          \"Zambia\",\n          \"Zimbabwe\"\n        ],\n        \"semantic_type\": \"\",\n        \"description\": \"\"\n      }\n    },\n    {\n      \"column\": \"Year\",\n      \"properties\": {\n        \"dtype\": \"number\",\n        \"std\": 7,\n        \"min\": 1983,\n        \"max\": 2004,\n        \"num_unique_values\": 9,\n        \"samples\": [\n          1990,\n          1984,\n          1988\n        ],\n        \"semantic_type\": \"\",\n        \"description\": \"\"\n      }\n    },\n    {\n      \"column\": \"Female suicide rates for selected countries, 1950-2005 (WHO (2015))\",\n      \"properties\": {\n        \"dtype\": \"number\",\n        \"std\": null,\n        \"min\": null,\n        \"max\": null,\n        \"num_unique_values\": 0,\n        \"samples\": [],\n        \"semantic_type\": \"\",\n        \"description\": \"\"\n      }\n    },\n    {\n      \"column\": \"Female suicide rate (WHO (2005))\",\n      \"properties\": {\n        \"dtype\": \"number\",\n        \"std\": 0.5017646252168565,\n        \"min\": 7.793037,\n        \"max\": 9.376058578,\n        \"num_unique_values\": 10,\n        \"samples\": [],\n        \"semantic_type\": \"\",\n        \"description\": \"\"\n      }\n    }\n  ]\n}",
              "type": "dataframe"
            },
            "text/html": [
              "\n",
              "  <div id=\"df-ea08ce7e-d71a-422a-910d-6b2b2ddad2e4\" class=\"colab-df-container\">\n",
              "    <div>\n",
              "<style scoped>\n",
              "    .dataframe tbody tr th:only-of-type {\n",
              "        vertical-align: middle;\n",
              "    }\n",
              "\n",
              "    .dataframe tbody tr th {\n",
              "        vertical-align: top;\n",
              "    }\n",
              "\n",
              "    .dataframe thead th {\n",
              "        text-align: right;\n",
              "    }\n",
              "</style>\n",
              "<table border=\"1\" class=\"dataframe\">\n",
              "  <thead>\n",
              "    <tr style=\"text-align: right;\">\n",
              "      <th></th>\n",
              "      <th>Entity</th>\n",
              "      <th>Year</th>\n",
              "      <th>Female suicide rates for selected countries, 1950-2005 (WHO (2015))</th>\n",
              "      <th>Female suicide rate (WHO (2005))</th>\n",
              "    </tr>\n",
              "  </thead>\n",
              "  <tbody>\n",
              "    <tr>\n",
              "      <th>2494</th>\n",
              "      <td>Yugoslavia</td>\n",
              "      <td>1983</td>\n",
              "      <td>NaN</td>\n",
              "      <td>8.625981</td>\n",
              "    </tr>\n",
              "    <tr>\n",
              "      <th>2495</th>\n",
              "      <td>Yugoslavia</td>\n",
              "      <td>1984</td>\n",
              "      <td>NaN</td>\n",
              "      <td>8.548234</td>\n",
              "    </tr>\n",
              "    <tr>\n",
              "      <th>2496</th>\n",
              "      <td>Yugoslavia</td>\n",
              "      <td>1985</td>\n",
              "      <td>NaN</td>\n",
              "      <td>8.234728</td>\n",
              "    </tr>\n",
              "    <tr>\n",
              "      <th>2497</th>\n",
              "      <td>Yugoslavia</td>\n",
              "      <td>1986</td>\n",
              "      <td>NaN</td>\n",
              "      <td>8.317180</td>\n",
              "    </tr>\n",
              "    <tr>\n",
              "      <th>2498</th>\n",
              "      <td>Yugoslavia</td>\n",
              "      <td>1987</td>\n",
              "      <td>NaN</td>\n",
              "      <td>9.230215</td>\n",
              "    </tr>\n",
              "    <tr>\n",
              "      <th>2499</th>\n",
              "      <td>Yugoslavia</td>\n",
              "      <td>1988</td>\n",
              "      <td>NaN</td>\n",
              "      <td>8.753218</td>\n",
              "    </tr>\n",
              "    <tr>\n",
              "      <th>2500</th>\n",
              "      <td>Yugoslavia</td>\n",
              "      <td>1989</td>\n",
              "      <td>NaN</td>\n",
              "      <td>8.518538</td>\n",
              "    </tr>\n",
              "    <tr>\n",
              "      <th>2501</th>\n",
              "      <td>Yugoslavia</td>\n",
              "      <td>1990</td>\n",
              "      <td>NaN</td>\n",
              "      <td>7.793037</td>\n",
              "    </tr>\n",
              "    <tr>\n",
              "      <th>2502</th>\n",
              "      <td>Zambia</td>\n",
              "      <td>2004</td>\n",
              "      <td>NaN</td>\n",
              "      <td>7.959891</td>\n",
              "    </tr>\n",
              "    <tr>\n",
              "      <th>2503</th>\n",
              "      <td>Zimbabwe</td>\n",
              "      <td>2004</td>\n",
              "      <td>NaN</td>\n",
              "      <td>9.376059</td>\n",
              "    </tr>\n",
              "  </tbody>\n",
              "</table>\n",
              "</div>\n",
              "    <div class=\"colab-df-buttons\">\n",
              "\n",
              "  <div class=\"colab-df-container\">\n",
              "    <button class=\"colab-df-convert\" onclick=\"convertToInteractive('df-ea08ce7e-d71a-422a-910d-6b2b2ddad2e4')\"\n",
              "            title=\"Convert this dataframe to an interactive table.\"\n",
              "            style=\"display:none;\">\n",
              "\n",
              "  <svg xmlns=\"http://www.w3.org/2000/svg\" height=\"24px\" viewBox=\"0 -960 960 960\">\n",
              "    <path d=\"M120-120v-720h720v720H120Zm60-500h600v-160H180v160Zm220 220h160v-160H400v160Zm0 220h160v-160H400v160ZM180-400h160v-160H180v160Zm440 0h160v-160H620v160ZM180-180h160v-160H180v160Zm440 0h160v-160H620v160Z\"/>\n",
              "  </svg>\n",
              "    </button>\n",
              "\n",
              "  <style>\n",
              "    .colab-df-container {\n",
              "      display:flex;\n",
              "      gap: 12px;\n",
              "    }\n",
              "\n",
              "    .colab-df-convert {\n",
              "      background-color: #E8F0FE;\n",
              "      border: none;\n",
              "      border-radius: 50%;\n",
              "      cursor: pointer;\n",
              "      display: none;\n",
              "      fill: #1967D2;\n",
              "      height: 32px;\n",
              "      padding: 0 0 0 0;\n",
              "      width: 32px;\n",
              "    }\n",
              "\n",
              "    .colab-df-convert:hover {\n",
              "      background-color: #E2EBFA;\n",
              "      box-shadow: 0px 1px 2px rgba(60, 64, 67, 0.3), 0px 1px 3px 1px rgba(60, 64, 67, 0.15);\n",
              "      fill: #174EA6;\n",
              "    }\n",
              "\n",
              "    .colab-df-buttons div {\n",
              "      margin-bottom: 4px;\n",
              "    }\n",
              "\n",
              "    [theme=dark] .colab-df-convert {\n",
              "      background-color: #3B4455;\n",
              "      fill: #D2E3FC;\n",
              "    }\n",
              "\n",
              "    [theme=dark] .colab-df-convert:hover {\n",
              "      background-color: #434B5C;\n",
              "      box-shadow: 0px 1px 3px 1px rgba(0, 0, 0, 0.15);\n",
              "      filter: drop-shadow(0px 1px 2px rgba(0, 0, 0, 0.3));\n",
              "      fill: #FFFFFF;\n",
              "    }\n",
              "  </style>\n",
              "\n",
              "    <script>\n",
              "      const buttonEl =\n",
              "        document.querySelector('#df-ea08ce7e-d71a-422a-910d-6b2b2ddad2e4 button.colab-df-convert');\n",
              "      buttonEl.style.display =\n",
              "        google.colab.kernel.accessAllowed ? 'block' : 'none';\n",
              "\n",
              "      async function convertToInteractive(key) {\n",
              "        const element = document.querySelector('#df-ea08ce7e-d71a-422a-910d-6b2b2ddad2e4');\n",
              "        const dataTable =\n",
              "          await google.colab.kernel.invokeFunction('convertToInteractive',\n",
              "                                                    [key], {});\n",
              "        if (!dataTable) return;\n",
              "\n",
              "        const docLinkHtml = 'Like what you see? Visit the ' +\n",
              "          '<a target=\"_blank\" href=https://colab.research.google.com/notebooks/data_table.ipynb>data table notebook</a>'\n",
              "          + ' to learn more about interactive tables.';\n",
              "        element.innerHTML = '';\n",
              "        dataTable['output_type'] = 'display_data';\n",
              "        await google.colab.output.renderOutput(dataTable, element);\n",
              "        const docLink = document.createElement('div');\n",
              "        docLink.innerHTML = docLinkHtml;\n",
              "        element.appendChild(docLink);\n",
              "      }\n",
              "    </script>\n",
              "  </div>\n",
              "\n",
              "\n",
              "<div id=\"df-59fdaec7-29d0-46fc-8bb0-fa563d1a246f\">\n",
              "  <button class=\"colab-df-quickchart\" onclick=\"quickchart('df-59fdaec7-29d0-46fc-8bb0-fa563d1a246f')\"\n",
              "            title=\"Suggest charts\"\n",
              "            style=\"display:none;\">\n",
              "\n",
              "<svg xmlns=\"http://www.w3.org/2000/svg\" height=\"24px\"viewBox=\"0 0 24 24\"\n",
              "     width=\"24px\">\n",
              "    <g>\n",
              "        <path d=\"M19 3H5c-1.1 0-2 .9-2 2v14c0 1.1.9 2 2 2h14c1.1 0 2-.9 2-2V5c0-1.1-.9-2-2-2zM9 17H7v-7h2v7zm4 0h-2V7h2v10zm4 0h-2v-4h2v4z\"/>\n",
              "    </g>\n",
              "</svg>\n",
              "  </button>\n",
              "\n",
              "<style>\n",
              "  .colab-df-quickchart {\n",
              "      --bg-color: #E8F0FE;\n",
              "      --fill-color: #1967D2;\n",
              "      --hover-bg-color: #E2EBFA;\n",
              "      --hover-fill-color: #174EA6;\n",
              "      --disabled-fill-color: #AAA;\n",
              "      --disabled-bg-color: #DDD;\n",
              "  }\n",
              "\n",
              "  [theme=dark] .colab-df-quickchart {\n",
              "      --bg-color: #3B4455;\n",
              "      --fill-color: #D2E3FC;\n",
              "      --hover-bg-color: #434B5C;\n",
              "      --hover-fill-color: #FFFFFF;\n",
              "      --disabled-bg-color: #3B4455;\n",
              "      --disabled-fill-color: #666;\n",
              "  }\n",
              "\n",
              "  .colab-df-quickchart {\n",
              "    background-color: var(--bg-color);\n",
              "    border: none;\n",
              "    border-radius: 50%;\n",
              "    cursor: pointer;\n",
              "    display: none;\n",
              "    fill: var(--fill-color);\n",
              "    height: 32px;\n",
              "    padding: 0;\n",
              "    width: 32px;\n",
              "  }\n",
              "\n",
              "  .colab-df-quickchart:hover {\n",
              "    background-color: var(--hover-bg-color);\n",
              "    box-shadow: 0 1px 2px rgba(60, 64, 67, 0.3), 0 1px 3px 1px rgba(60, 64, 67, 0.15);\n",
              "    fill: var(--button-hover-fill-color);\n",
              "  }\n",
              "\n",
              "  .colab-df-quickchart-complete:disabled,\n",
              "  .colab-df-quickchart-complete:disabled:hover {\n",
              "    background-color: var(--disabled-bg-color);\n",
              "    fill: var(--disabled-fill-color);\n",
              "    box-shadow: none;\n",
              "  }\n",
              "\n",
              "  .colab-df-spinner {\n",
              "    border: 2px solid var(--fill-color);\n",
              "    border-color: transparent;\n",
              "    border-bottom-color: var(--fill-color);\n",
              "    animation:\n",
              "      spin 1s steps(1) infinite;\n",
              "  }\n",
              "\n",
              "  @keyframes spin {\n",
              "    0% {\n",
              "      border-color: transparent;\n",
              "      border-bottom-color: var(--fill-color);\n",
              "      border-left-color: var(--fill-color);\n",
              "    }\n",
              "    20% {\n",
              "      border-color: transparent;\n",
              "      border-left-color: var(--fill-color);\n",
              "      border-top-color: var(--fill-color);\n",
              "    }\n",
              "    30% {\n",
              "      border-color: transparent;\n",
              "      border-left-color: var(--fill-color);\n",
              "      border-top-color: var(--fill-color);\n",
              "      border-right-color: var(--fill-color);\n",
              "    }\n",
              "    40% {\n",
              "      border-color: transparent;\n",
              "      border-right-color: var(--fill-color);\n",
              "      border-top-color: var(--fill-color);\n",
              "    }\n",
              "    60% {\n",
              "      border-color: transparent;\n",
              "      border-right-color: var(--fill-color);\n",
              "    }\n",
              "    80% {\n",
              "      border-color: transparent;\n",
              "      border-right-color: var(--fill-color);\n",
              "      border-bottom-color: var(--fill-color);\n",
              "    }\n",
              "    90% {\n",
              "      border-color: transparent;\n",
              "      border-bottom-color: var(--fill-color);\n",
              "    }\n",
              "  }\n",
              "</style>\n",
              "\n",
              "  <script>\n",
              "    async function quickchart(key) {\n",
              "      const quickchartButtonEl =\n",
              "        document.querySelector('#' + key + ' button');\n",
              "      quickchartButtonEl.disabled = true;  // To prevent multiple clicks.\n",
              "      quickchartButtonEl.classList.add('colab-df-spinner');\n",
              "      try {\n",
              "        const charts = await google.colab.kernel.invokeFunction(\n",
              "            'suggestCharts', [key], {});\n",
              "      } catch (error) {\n",
              "        console.error('Error during call to suggestCharts:', error);\n",
              "      }\n",
              "      quickchartButtonEl.classList.remove('colab-df-spinner');\n",
              "      quickchartButtonEl.classList.add('colab-df-quickchart-complete');\n",
              "    }\n",
              "    (() => {\n",
              "      let quickchartButtonEl =\n",
              "        document.querySelector('#df-59fdaec7-29d0-46fc-8bb0-fa563d1a246f button');\n",
              "      quickchartButtonEl.style.display =\n",
              "        google.colab.kernel.accessAllowed ? 'block' : 'none';\n",
              "    })();\n",
              "  </script>\n",
              "</div>\n",
              "\n",
              "    </div>\n",
              "  </div>\n"
            ],
            "text/plain": [
              "          Entity  Year  \\\n",
              "2494  Yugoslavia  1983   \n",
              "2495  Yugoslavia  1984   \n",
              "2496  Yugoslavia  1985   \n",
              "2497  Yugoslavia  1986   \n",
              "2498  Yugoslavia  1987   \n",
              "2499  Yugoslavia  1988   \n",
              "2500  Yugoslavia  1989   \n",
              "2501  Yugoslavia  1990   \n",
              "2502      Zambia  2004   \n",
              "2503    Zimbabwe  2004   \n",
              "\n",
              "      Female suicide rates for selected countries, 1950-2005 (WHO (2015))  \\\n",
              "2494                                                NaN                     \n",
              "2495                                                NaN                     \n",
              "2496                                                NaN                     \n",
              "2497                                                NaN                     \n",
              "2498                                                NaN                     \n",
              "2499                                                NaN                     \n",
              "2500                                                NaN                     \n",
              "2501                                                NaN                     \n",
              "2502                                                NaN                     \n",
              "2503                                                NaN                     \n",
              "\n",
              "      Female suicide rate (WHO (2005))  \n",
              "2494                          8.625981  \n",
              "2495                          8.548234  \n",
              "2496                          8.234728  \n",
              "2497                          8.317180  \n",
              "2498                          9.230215  \n",
              "2499                          8.753218  \n",
              "2500                          8.518538  \n",
              "2501                          7.793037  \n",
              "2502                          7.959891  \n",
              "2503                          9.376059  "
            ]
          },
          "execution_count": 5,
          "metadata": {},
          "output_type": "execute_result"
        }
      ],
      "source": [
        "# preview last 10 rows\n",
        "female_suicide_rates.tail(10)"
      ]
    },
    {
      "cell_type": "code",
      "execution_count": null,
      "metadata": {
        "colab": {
          "base_uri": "https://localhost:8080/"
        },
        "id": "vwhQ5dEeUMUB",
        "outputId": "560cb619-1760-4c2d-c98e-f0f5600f479a"
      },
      "outputs": [
        {
          "data": {
            "text/plain": [
              "Index(['Entity', 'Year',\n",
              "       'Female suicide rates for selected countries, 1950-2005 (WHO (2015))',\n",
              "       'Female suicide rate (WHO (2005))'],\n",
              "      dtype='object')"
            ]
          },
          "execution_count": 6,
          "metadata": {},
          "output_type": "execute_result"
        }
      ],
      "source": [
        "# check column features\n",
        "female_suicide_rates.columns"
      ]
    },
    {
      "cell_type": "code",
      "execution_count": null,
      "metadata": {
        "colab": {
          "base_uri": "https://localhost:8080/"
        },
        "id": "awvRUuraW8dO",
        "outputId": "eb8c2a34-c7fd-4448-bc7f-9eb4091d6a13"
      },
      "outputs": [
        {
          "data": {
            "text/plain": [
              "(2504, 4)"
            ]
          },
          "execution_count": 7,
          "metadata": {},
          "output_type": "execute_result"
        }
      ],
      "source": [
        "# shape of the dataset\n",
        "female_suicide_rates.shape"
      ]
    },
    {
      "cell_type": "code",
      "execution_count": null,
      "metadata": {
        "colab": {
          "base_uri": "https://localhost:8080/"
        },
        "id": "9LyWnXGGUMIL",
        "outputId": "5632b949-f0b4-4ddf-b486-a8a5ab90a649"
      },
      "outputs": [
        {
          "name": "stdout",
          "output_type": "stream",
          "text": [
            "<class 'pandas.core.frame.DataFrame'>\n",
            "RangeIndex: 2504 entries, 0 to 2503\n",
            "Data columns (total 4 columns):\n",
            " #   Column                                                               Non-Null Count  Dtype  \n",
            "---  ------                                                               --------------  -----  \n",
            " 0   Entity                                                               2504 non-null   object \n",
            " 1   Year                                                                 2504 non-null   int64  \n",
            " 2   Female suicide rates for selected countries, 1950-2005 (WHO (2015))  996 non-null    float64\n",
            " 3   Female suicide rate (WHO (2005))                                     2504 non-null   float64\n",
            "dtypes: float64(2), int64(1), object(1)\n",
            "memory usage: 78.4+ KB\n"
          ]
        }
      ],
      "source": [
        "# concise summary of the dataset\n",
        "female_suicide_rates.info()"
      ]
    },
    {
      "cell_type": "code",
      "execution_count": null,
      "metadata": {
        "colab": {
          "base_uri": "https://localhost:8080/"
        },
        "id": "3HV72GWSdQGS",
        "outputId": "84d54b0c-745b-40ef-b39b-cc942e21fe2f"
      },
      "outputs": [
        {
          "name": "stdout",
          "output_type": "stream",
          "text": [
            "Proportion of missing values in each column:\n",
            "Entity                                                                  0.000000\n",
            "Year                                                                    0.000000\n",
            "Female suicide rates for selected countries, 1950-2005 (WHO (2015))    60.223642\n",
            "Female suicide rate (WHO (2005))                                        0.000000\n",
            "dtype: float64\n"
          ]
        }
      ],
      "source": [
        "# Calculate the proportion of missing values in each column\n",
        "proportion_missing = (female_suicide_rates.isna().sum() / len(female_suicide_rates)) * 100\n",
        "\n",
        "# Print the proportion of missing values in each column\n",
        "print(\"Proportion of missing values in each column:\")\n",
        "print(proportion_missing)"
      ]
    },
    {
      "cell_type": "markdown",
      "metadata": {
        "id": "MRP-VibfVtSf"
      },
      "source": [
        "Observations:\n",
        "\n",
        "* The female suicide rates dataset contains 2504 rows and 4 columns.\n",
        "* The data includes a mix of continuous and categorical features represented by object, integer and float data types.\n",
        "* The third column of the dataset contains missing values that need to be addressed during analysis."
      ]
    },
    {
      "cell_type": "markdown",
      "metadata": {
        "id": "Vvgxr22yX3LS"
      },
      "source": [
        "### Male suicide rates"
      ]
    },
    {
      "cell_type": "code",
      "execution_count": null,
      "metadata": {
        "colab": {
          "base_uri": "https://localhost:8080/",
          "height": 363
        },
        "id": "rfae3bzEX-w4",
        "outputId": "605e0829-783c-4f6d-8475-5d46264fc590"
      },
      "outputs": [
        {
          "data": {
            "application/vnd.google.colaboratory.intrinsic+json": {
              "summary": "{\n  \"name\": \"male_suicide_rates\",\n  \"rows\": 2508,\n  \"fields\": [\n    {\n      \"column\": \"Entity\",\n      \"properties\": {\n        \"dtype\": \"category\",\n        \"num_unique_values\": 195,\n        \"samples\": [\n          \"Qatar\",\n          \"Belgium\",\n          \"Slovenia\"\n        ],\n        \"semantic_type\": \"\",\n        \"description\": \"\"\n      }\n    },\n    {\n      \"column\": \"Year\",\n      \"properties\": {\n        \"dtype\": \"number\",\n        \"std\": 15,\n        \"min\": 1950,\n        \"max\": 2004,\n        \"num_unique_values\": 55,\n        \"samples\": [\n          2002,\n          1970,\n          2003\n        ],\n        \"semantic_type\": \"\",\n        \"description\": \"\"\n      }\n    },\n    {\n      \"column\": \"Male suicide rates for selected countries, 1950-2005 (WHO (2005))\",\n      \"properties\": {\n        \"dtype\": \"number\",\n        \"std\": 10.606787882503182,\n        \"min\": 1.096277,\n        \"max\": 70.80212,\n        \"num_unique_values\": 997,\n        \"samples\": [\n          4.446795,\n          22.46557,\n          18.88451\n        ],\n        \"semantic_type\": \"\",\n        \"description\": \"\"\n      }\n    },\n    {\n      \"column\": \"Male suicide rate (WHO (2005))\",\n      \"properties\": {\n        \"dtype\": \"number\",\n        \"std\": 13.080886114554353,\n        \"min\": 0.0607529,\n        \"max\": 80.42894,\n        \"num_unique_values\": 2508,\n        \"samples\": [\n          17.50307846,\n          18.46308,\n          26.31953\n        ],\n        \"semantic_type\": \"\",\n        \"description\": \"\"\n      }\n    }\n  ]\n}",
              "type": "dataframe",
              "variable_name": "male_suicide_rates"
            },
            "text/html": [
              "\n",
              "  <div id=\"df-0a995ba2-6586-458a-a575-0b88288cc258\" class=\"colab-df-container\">\n",
              "    <div>\n",
              "<style scoped>\n",
              "    .dataframe tbody tr th:only-of-type {\n",
              "        vertical-align: middle;\n",
              "    }\n",
              "\n",
              "    .dataframe tbody tr th {\n",
              "        vertical-align: top;\n",
              "    }\n",
              "\n",
              "    .dataframe thead th {\n",
              "        text-align: right;\n",
              "    }\n",
              "</style>\n",
              "<table border=\"1\" class=\"dataframe\">\n",
              "  <thead>\n",
              "    <tr style=\"text-align: right;\">\n",
              "      <th></th>\n",
              "      <th>Entity</th>\n",
              "      <th>Year</th>\n",
              "      <th>Male suicide rates for selected countries, 1950-2005 (WHO (2005))</th>\n",
              "      <th>Male suicide rate (WHO (2005))</th>\n",
              "    </tr>\n",
              "  </thead>\n",
              "  <tbody>\n",
              "    <tr>\n",
              "      <th>0</th>\n",
              "      <td>Afghanistan</td>\n",
              "      <td>2004</td>\n",
              "      <td>4.884804</td>\n",
              "      <td>4.884804</td>\n",
              "    </tr>\n",
              "    <tr>\n",
              "      <th>1</th>\n",
              "      <td>Albania</td>\n",
              "      <td>2004</td>\n",
              "      <td>9.330574</td>\n",
              "      <td>9.330574</td>\n",
              "    </tr>\n",
              "    <tr>\n",
              "      <th>2</th>\n",
              "      <td>Algeria</td>\n",
              "      <td>2004</td>\n",
              "      <td>5.145025</td>\n",
              "      <td>5.145025</td>\n",
              "    </tr>\n",
              "    <tr>\n",
              "      <th>3</th>\n",
              "      <td>Andorra</td>\n",
              "      <td>2004</td>\n",
              "      <td>8.048293</td>\n",
              "      <td>8.048293</td>\n",
              "    </tr>\n",
              "    <tr>\n",
              "      <th>4</th>\n",
              "      <td>Angola</td>\n",
              "      <td>2004</td>\n",
              "      <td>21.472977</td>\n",
              "      <td>21.472977</td>\n",
              "    </tr>\n",
              "    <tr>\n",
              "      <th>5</th>\n",
              "      <td>Antigua and Barbuda</td>\n",
              "      <td>2004</td>\n",
              "      <td>4.430495</td>\n",
              "      <td>4.430495</td>\n",
              "    </tr>\n",
              "    <tr>\n",
              "      <th>6</th>\n",
              "      <td>Argentina</td>\n",
              "      <td>1966</td>\n",
              "      <td>12.203960</td>\n",
              "      <td>12.203960</td>\n",
              "    </tr>\n",
              "    <tr>\n",
              "      <th>7</th>\n",
              "      <td>Argentina</td>\n",
              "      <td>1967</td>\n",
              "      <td>15.552110</td>\n",
              "      <td>15.552110</td>\n",
              "    </tr>\n",
              "    <tr>\n",
              "      <th>8</th>\n",
              "      <td>Argentina</td>\n",
              "      <td>1968</td>\n",
              "      <td>16.782040</td>\n",
              "      <td>16.782040</td>\n",
              "    </tr>\n",
              "    <tr>\n",
              "      <th>9</th>\n",
              "      <td>Argentina</td>\n",
              "      <td>1969</td>\n",
              "      <td>16.776400</td>\n",
              "      <td>16.776400</td>\n",
              "    </tr>\n",
              "  </tbody>\n",
              "</table>\n",
              "</div>\n",
              "    <div class=\"colab-df-buttons\">\n",
              "\n",
              "  <div class=\"colab-df-container\">\n",
              "    <button class=\"colab-df-convert\" onclick=\"convertToInteractive('df-0a995ba2-6586-458a-a575-0b88288cc258')\"\n",
              "            title=\"Convert this dataframe to an interactive table.\"\n",
              "            style=\"display:none;\">\n",
              "\n",
              "  <svg xmlns=\"http://www.w3.org/2000/svg\" height=\"24px\" viewBox=\"0 -960 960 960\">\n",
              "    <path d=\"M120-120v-720h720v720H120Zm60-500h600v-160H180v160Zm220 220h160v-160H400v160Zm0 220h160v-160H400v160ZM180-400h160v-160H180v160Zm440 0h160v-160H620v160ZM180-180h160v-160H180v160Zm440 0h160v-160H620v160Z\"/>\n",
              "  </svg>\n",
              "    </button>\n",
              "\n",
              "  <style>\n",
              "    .colab-df-container {\n",
              "      display:flex;\n",
              "      gap: 12px;\n",
              "    }\n",
              "\n",
              "    .colab-df-convert {\n",
              "      background-color: #E8F0FE;\n",
              "      border: none;\n",
              "      border-radius: 50%;\n",
              "      cursor: pointer;\n",
              "      display: none;\n",
              "      fill: #1967D2;\n",
              "      height: 32px;\n",
              "      padding: 0 0 0 0;\n",
              "      width: 32px;\n",
              "    }\n",
              "\n",
              "    .colab-df-convert:hover {\n",
              "      background-color: #E2EBFA;\n",
              "      box-shadow: 0px 1px 2px rgba(60, 64, 67, 0.3), 0px 1px 3px 1px rgba(60, 64, 67, 0.15);\n",
              "      fill: #174EA6;\n",
              "    }\n",
              "\n",
              "    .colab-df-buttons div {\n",
              "      margin-bottom: 4px;\n",
              "    }\n",
              "\n",
              "    [theme=dark] .colab-df-convert {\n",
              "      background-color: #3B4455;\n",
              "      fill: #D2E3FC;\n",
              "    }\n",
              "\n",
              "    [theme=dark] .colab-df-convert:hover {\n",
              "      background-color: #434B5C;\n",
              "      box-shadow: 0px 1px 3px 1px rgba(0, 0, 0, 0.15);\n",
              "      filter: drop-shadow(0px 1px 2px rgba(0, 0, 0, 0.3));\n",
              "      fill: #FFFFFF;\n",
              "    }\n",
              "  </style>\n",
              "\n",
              "    <script>\n",
              "      const buttonEl =\n",
              "        document.querySelector('#df-0a995ba2-6586-458a-a575-0b88288cc258 button.colab-df-convert');\n",
              "      buttonEl.style.display =\n",
              "        google.colab.kernel.accessAllowed ? 'block' : 'none';\n",
              "\n",
              "      async function convertToInteractive(key) {\n",
              "        const element = document.querySelector('#df-0a995ba2-6586-458a-a575-0b88288cc258');\n",
              "        const dataTable =\n",
              "          await google.colab.kernel.invokeFunction('convertToInteractive',\n",
              "                                                    [key], {});\n",
              "        if (!dataTable) return;\n",
              "\n",
              "        const docLinkHtml = 'Like what you see? Visit the ' +\n",
              "          '<a target=\"_blank\" href=https://colab.research.google.com/notebooks/data_table.ipynb>data table notebook</a>'\n",
              "          + ' to learn more about interactive tables.';\n",
              "        element.innerHTML = '';\n",
              "        dataTable['output_type'] = 'display_data';\n",
              "        await google.colab.output.renderOutput(dataTable, element);\n",
              "        const docLink = document.createElement('div');\n",
              "        docLink.innerHTML = docLinkHtml;\n",
              "        element.appendChild(docLink);\n",
              "      }\n",
              "    </script>\n",
              "  </div>\n",
              "\n",
              "\n",
              "<div id=\"df-8f814c2e-9592-4182-88c9-01c4dd446a55\">\n",
              "  <button class=\"colab-df-quickchart\" onclick=\"quickchart('df-8f814c2e-9592-4182-88c9-01c4dd446a55')\"\n",
              "            title=\"Suggest charts\"\n",
              "            style=\"display:none;\">\n",
              "\n",
              "<svg xmlns=\"http://www.w3.org/2000/svg\" height=\"24px\"viewBox=\"0 0 24 24\"\n",
              "     width=\"24px\">\n",
              "    <g>\n",
              "        <path d=\"M19 3H5c-1.1 0-2 .9-2 2v14c0 1.1.9 2 2 2h14c1.1 0 2-.9 2-2V5c0-1.1-.9-2-2-2zM9 17H7v-7h2v7zm4 0h-2V7h2v10zm4 0h-2v-4h2v4z\"/>\n",
              "    </g>\n",
              "</svg>\n",
              "  </button>\n",
              "\n",
              "<style>\n",
              "  .colab-df-quickchart {\n",
              "      --bg-color: #E8F0FE;\n",
              "      --fill-color: #1967D2;\n",
              "      --hover-bg-color: #E2EBFA;\n",
              "      --hover-fill-color: #174EA6;\n",
              "      --disabled-fill-color: #AAA;\n",
              "      --disabled-bg-color: #DDD;\n",
              "  }\n",
              "\n",
              "  [theme=dark] .colab-df-quickchart {\n",
              "      --bg-color: #3B4455;\n",
              "      --fill-color: #D2E3FC;\n",
              "      --hover-bg-color: #434B5C;\n",
              "      --hover-fill-color: #FFFFFF;\n",
              "      --disabled-bg-color: #3B4455;\n",
              "      --disabled-fill-color: #666;\n",
              "  }\n",
              "\n",
              "  .colab-df-quickchart {\n",
              "    background-color: var(--bg-color);\n",
              "    border: none;\n",
              "    border-radius: 50%;\n",
              "    cursor: pointer;\n",
              "    display: none;\n",
              "    fill: var(--fill-color);\n",
              "    height: 32px;\n",
              "    padding: 0;\n",
              "    width: 32px;\n",
              "  }\n",
              "\n",
              "  .colab-df-quickchart:hover {\n",
              "    background-color: var(--hover-bg-color);\n",
              "    box-shadow: 0 1px 2px rgba(60, 64, 67, 0.3), 0 1px 3px 1px rgba(60, 64, 67, 0.15);\n",
              "    fill: var(--button-hover-fill-color);\n",
              "  }\n",
              "\n",
              "  .colab-df-quickchart-complete:disabled,\n",
              "  .colab-df-quickchart-complete:disabled:hover {\n",
              "    background-color: var(--disabled-bg-color);\n",
              "    fill: var(--disabled-fill-color);\n",
              "    box-shadow: none;\n",
              "  }\n",
              "\n",
              "  .colab-df-spinner {\n",
              "    border: 2px solid var(--fill-color);\n",
              "    border-color: transparent;\n",
              "    border-bottom-color: var(--fill-color);\n",
              "    animation:\n",
              "      spin 1s steps(1) infinite;\n",
              "  }\n",
              "\n",
              "  @keyframes spin {\n",
              "    0% {\n",
              "      border-color: transparent;\n",
              "      border-bottom-color: var(--fill-color);\n",
              "      border-left-color: var(--fill-color);\n",
              "    }\n",
              "    20% {\n",
              "      border-color: transparent;\n",
              "      border-left-color: var(--fill-color);\n",
              "      border-top-color: var(--fill-color);\n",
              "    }\n",
              "    30% {\n",
              "      border-color: transparent;\n",
              "      border-left-color: var(--fill-color);\n",
              "      border-top-color: var(--fill-color);\n",
              "      border-right-color: var(--fill-color);\n",
              "    }\n",
              "    40% {\n",
              "      border-color: transparent;\n",
              "      border-right-color: var(--fill-color);\n",
              "      border-top-color: var(--fill-color);\n",
              "    }\n",
              "    60% {\n",
              "      border-color: transparent;\n",
              "      border-right-color: var(--fill-color);\n",
              "    }\n",
              "    80% {\n",
              "      border-color: transparent;\n",
              "      border-right-color: var(--fill-color);\n",
              "      border-bottom-color: var(--fill-color);\n",
              "    }\n",
              "    90% {\n",
              "      border-color: transparent;\n",
              "      border-bottom-color: var(--fill-color);\n",
              "    }\n",
              "  }\n",
              "</style>\n",
              "\n",
              "  <script>\n",
              "    async function quickchart(key) {\n",
              "      const quickchartButtonEl =\n",
              "        document.querySelector('#' + key + ' button');\n",
              "      quickchartButtonEl.disabled = true;  // To prevent multiple clicks.\n",
              "      quickchartButtonEl.classList.add('colab-df-spinner');\n",
              "      try {\n",
              "        const charts = await google.colab.kernel.invokeFunction(\n",
              "            'suggestCharts', [key], {});\n",
              "      } catch (error) {\n",
              "        console.error('Error during call to suggestCharts:', error);\n",
              "      }\n",
              "      quickchartButtonEl.classList.remove('colab-df-spinner');\n",
              "      quickchartButtonEl.classList.add('colab-df-quickchart-complete');\n",
              "    }\n",
              "    (() => {\n",
              "      let quickchartButtonEl =\n",
              "        document.querySelector('#df-8f814c2e-9592-4182-88c9-01c4dd446a55 button');\n",
              "      quickchartButtonEl.style.display =\n",
              "        google.colab.kernel.accessAllowed ? 'block' : 'none';\n",
              "    })();\n",
              "  </script>\n",
              "</div>\n",
              "\n",
              "    </div>\n",
              "  </div>\n"
            ],
            "text/plain": [
              "                Entity  Year  \\\n",
              "0          Afghanistan  2004   \n",
              "1              Albania  2004   \n",
              "2              Algeria  2004   \n",
              "3              Andorra  2004   \n",
              "4               Angola  2004   \n",
              "5  Antigua and Barbuda  2004   \n",
              "6            Argentina  1966   \n",
              "7            Argentina  1967   \n",
              "8            Argentina  1968   \n",
              "9            Argentina  1969   \n",
              "\n",
              "   Male suicide rates for selected countries, 1950-2005 (WHO (2005))  \\\n",
              "0                                           4.884804                   \n",
              "1                                           9.330574                   \n",
              "2                                           5.145025                   \n",
              "3                                           8.048293                   \n",
              "4                                          21.472977                   \n",
              "5                                           4.430495                   \n",
              "6                                          12.203960                   \n",
              "7                                          15.552110                   \n",
              "8                                          16.782040                   \n",
              "9                                          16.776400                   \n",
              "\n",
              "   Male suicide rate (WHO (2005))  \n",
              "0                        4.884804  \n",
              "1                        9.330574  \n",
              "2                        5.145025  \n",
              "3                        8.048293  \n",
              "4                       21.472977  \n",
              "5                        4.430495  \n",
              "6                       12.203960  \n",
              "7                       15.552110  \n",
              "8                       16.782040  \n",
              "9                       16.776400  "
            ]
          },
          "execution_count": 10,
          "metadata": {},
          "output_type": "execute_result"
        }
      ],
      "source": [
        "# preview first 10 rows\n",
        "male_suicide_rates.head(10)"
      ]
    },
    {
      "cell_type": "code",
      "execution_count": null,
      "metadata": {
        "colab": {
          "base_uri": "https://localhost:8080/",
          "height": 363
        },
        "id": "8r0B_gNoX-td",
        "outputId": "d99028ad-27cb-473d-e6b0-2ec8a08c55a1"
      },
      "outputs": [
        {
          "data": {
            "application/vnd.google.colaboratory.intrinsic+json": {
              "summary": "{\n  \"name\": \"male_suicide_rates\",\n  \"rows\": 10,\n  \"fields\": [\n    {\n      \"column\": \"Entity\",\n      \"properties\": {\n        \"dtype\": \"category\",\n        \"num_unique_values\": 3,\n        \"samples\": [\n          \"Yugoslavia\",\n          \"Zambia\",\n          \"Zimbabwe\"\n        ],\n        \"semantic_type\": \"\",\n        \"description\": \"\"\n      }\n    },\n    {\n      \"column\": \"Year\",\n      \"properties\": {\n        \"dtype\": \"number\",\n        \"std\": 7,\n        \"min\": 1983,\n        \"max\": 2004,\n        \"num_unique_values\": 9,\n        \"samples\": [\n          1990,\n          1984,\n          1988\n        ],\n        \"semantic_type\": \"\",\n        \"description\": \"\"\n      }\n    },\n    {\n      \"column\": \"Male suicide rates for selected countries, 1950-2005 (WHO (2005))\",\n      \"properties\": {\n        \"dtype\": \"number\",\n        \"std\": null,\n        \"min\": null,\n        \"max\": null,\n        \"num_unique_values\": 0,\n        \"samples\": [],\n        \"semantic_type\": \"\",\n        \"description\": \"\"\n      }\n    },\n    {\n      \"column\": \"Male suicide rate (WHO (2005))\",\n      \"properties\": {\n        \"dtype\": \"number\",\n        \"std\": 2.1852783118810675,\n        \"min\": 16.53609085,\n        \"max\": 23.3355,\n        \"num_unique_values\": 10,\n        \"samples\": [],\n        \"semantic_type\": \"\",\n        \"description\": \"\"\n      }\n    }\n  ]\n}",
              "type": "dataframe"
            },
            "text/html": [
              "\n",
              "  <div id=\"df-6fba11ea-3380-46b1-a03e-9e28beed683b\" class=\"colab-df-container\">\n",
              "    <div>\n",
              "<style scoped>\n",
              "    .dataframe tbody tr th:only-of-type {\n",
              "        vertical-align: middle;\n",
              "    }\n",
              "\n",
              "    .dataframe tbody tr th {\n",
              "        vertical-align: top;\n",
              "    }\n",
              "\n",
              "    .dataframe thead th {\n",
              "        text-align: right;\n",
              "    }\n",
              "</style>\n",
              "<table border=\"1\" class=\"dataframe\">\n",
              "  <thead>\n",
              "    <tr style=\"text-align: right;\">\n",
              "      <th></th>\n",
              "      <th>Entity</th>\n",
              "      <th>Year</th>\n",
              "      <th>Male suicide rates for selected countries, 1950-2005 (WHO (2005))</th>\n",
              "      <th>Male suicide rate (WHO (2005))</th>\n",
              "    </tr>\n",
              "  </thead>\n",
              "  <tbody>\n",
              "    <tr>\n",
              "      <th>2498</th>\n",
              "      <td>Yugoslavia</td>\n",
              "      <td>1983</td>\n",
              "      <td>NaN</td>\n",
              "      <td>22.675980</td>\n",
              "    </tr>\n",
              "    <tr>\n",
              "      <th>2499</th>\n",
              "      <td>Yugoslavia</td>\n",
              "      <td>1984</td>\n",
              "      <td>NaN</td>\n",
              "      <td>23.241420</td>\n",
              "    </tr>\n",
              "    <tr>\n",
              "      <th>2500</th>\n",
              "      <td>Yugoslavia</td>\n",
              "      <td>1985</td>\n",
              "      <td>NaN</td>\n",
              "      <td>22.533320</td>\n",
              "    </tr>\n",
              "    <tr>\n",
              "      <th>2501</th>\n",
              "      <td>Yugoslavia</td>\n",
              "      <td>1986</td>\n",
              "      <td>NaN</td>\n",
              "      <td>22.323800</td>\n",
              "    </tr>\n",
              "    <tr>\n",
              "      <th>2502</th>\n",
              "      <td>Yugoslavia</td>\n",
              "      <td>1987</td>\n",
              "      <td>NaN</td>\n",
              "      <td>23.335500</td>\n",
              "    </tr>\n",
              "    <tr>\n",
              "      <th>2503</th>\n",
              "      <td>Yugoslavia</td>\n",
              "      <td>1988</td>\n",
              "      <td>NaN</td>\n",
              "      <td>22.127810</td>\n",
              "    </tr>\n",
              "    <tr>\n",
              "      <th>2504</th>\n",
              "      <td>Yugoslavia</td>\n",
              "      <td>1989</td>\n",
              "      <td>NaN</td>\n",
              "      <td>22.416100</td>\n",
              "    </tr>\n",
              "    <tr>\n",
              "      <th>2505</th>\n",
              "      <td>Yugoslavia</td>\n",
              "      <td>1990</td>\n",
              "      <td>NaN</td>\n",
              "      <td>20.807000</td>\n",
              "    </tr>\n",
              "    <tr>\n",
              "      <th>2506</th>\n",
              "      <td>Zambia</td>\n",
              "      <td>2004</td>\n",
              "      <td>NaN</td>\n",
              "      <td>16.536091</td>\n",
              "    </tr>\n",
              "    <tr>\n",
              "      <th>2507</th>\n",
              "      <td>Zimbabwe</td>\n",
              "      <td>2004</td>\n",
              "      <td>NaN</td>\n",
              "      <td>18.836018</td>\n",
              "    </tr>\n",
              "  </tbody>\n",
              "</table>\n",
              "</div>\n",
              "    <div class=\"colab-df-buttons\">\n",
              "\n",
              "  <div class=\"colab-df-container\">\n",
              "    <button class=\"colab-df-convert\" onclick=\"convertToInteractive('df-6fba11ea-3380-46b1-a03e-9e28beed683b')\"\n",
              "            title=\"Convert this dataframe to an interactive table.\"\n",
              "            style=\"display:none;\">\n",
              "\n",
              "  <svg xmlns=\"http://www.w3.org/2000/svg\" height=\"24px\" viewBox=\"0 -960 960 960\">\n",
              "    <path d=\"M120-120v-720h720v720H120Zm60-500h600v-160H180v160Zm220 220h160v-160H400v160Zm0 220h160v-160H400v160ZM180-400h160v-160H180v160Zm440 0h160v-160H620v160ZM180-180h160v-160H180v160Zm440 0h160v-160H620v160Z\"/>\n",
              "  </svg>\n",
              "    </button>\n",
              "\n",
              "  <style>\n",
              "    .colab-df-container {\n",
              "      display:flex;\n",
              "      gap: 12px;\n",
              "    }\n",
              "\n",
              "    .colab-df-convert {\n",
              "      background-color: #E8F0FE;\n",
              "      border: none;\n",
              "      border-radius: 50%;\n",
              "      cursor: pointer;\n",
              "      display: none;\n",
              "      fill: #1967D2;\n",
              "      height: 32px;\n",
              "      padding: 0 0 0 0;\n",
              "      width: 32px;\n",
              "    }\n",
              "\n",
              "    .colab-df-convert:hover {\n",
              "      background-color: #E2EBFA;\n",
              "      box-shadow: 0px 1px 2px rgba(60, 64, 67, 0.3), 0px 1px 3px 1px rgba(60, 64, 67, 0.15);\n",
              "      fill: #174EA6;\n",
              "    }\n",
              "\n",
              "    .colab-df-buttons div {\n",
              "      margin-bottom: 4px;\n",
              "    }\n",
              "\n",
              "    [theme=dark] .colab-df-convert {\n",
              "      background-color: #3B4455;\n",
              "      fill: #D2E3FC;\n",
              "    }\n",
              "\n",
              "    [theme=dark] .colab-df-convert:hover {\n",
              "      background-color: #434B5C;\n",
              "      box-shadow: 0px 1px 3px 1px rgba(0, 0, 0, 0.15);\n",
              "      filter: drop-shadow(0px 1px 2px rgba(0, 0, 0, 0.3));\n",
              "      fill: #FFFFFF;\n",
              "    }\n",
              "  </style>\n",
              "\n",
              "    <script>\n",
              "      const buttonEl =\n",
              "        document.querySelector('#df-6fba11ea-3380-46b1-a03e-9e28beed683b button.colab-df-convert');\n",
              "      buttonEl.style.display =\n",
              "        google.colab.kernel.accessAllowed ? 'block' : 'none';\n",
              "\n",
              "      async function convertToInteractive(key) {\n",
              "        const element = document.querySelector('#df-6fba11ea-3380-46b1-a03e-9e28beed683b');\n",
              "        const dataTable =\n",
              "          await google.colab.kernel.invokeFunction('convertToInteractive',\n",
              "                                                    [key], {});\n",
              "        if (!dataTable) return;\n",
              "\n",
              "        const docLinkHtml = 'Like what you see? Visit the ' +\n",
              "          '<a target=\"_blank\" href=https://colab.research.google.com/notebooks/data_table.ipynb>data table notebook</a>'\n",
              "          + ' to learn more about interactive tables.';\n",
              "        element.innerHTML = '';\n",
              "        dataTable['output_type'] = 'display_data';\n",
              "        await google.colab.output.renderOutput(dataTable, element);\n",
              "        const docLink = document.createElement('div');\n",
              "        docLink.innerHTML = docLinkHtml;\n",
              "        element.appendChild(docLink);\n",
              "      }\n",
              "    </script>\n",
              "  </div>\n",
              "\n",
              "\n",
              "<div id=\"df-3e9a1a65-9f6b-4343-aa8c-89b892ca5949\">\n",
              "  <button class=\"colab-df-quickchart\" onclick=\"quickchart('df-3e9a1a65-9f6b-4343-aa8c-89b892ca5949')\"\n",
              "            title=\"Suggest charts\"\n",
              "            style=\"display:none;\">\n",
              "\n",
              "<svg xmlns=\"http://www.w3.org/2000/svg\" height=\"24px\"viewBox=\"0 0 24 24\"\n",
              "     width=\"24px\">\n",
              "    <g>\n",
              "        <path d=\"M19 3H5c-1.1 0-2 .9-2 2v14c0 1.1.9 2 2 2h14c1.1 0 2-.9 2-2V5c0-1.1-.9-2-2-2zM9 17H7v-7h2v7zm4 0h-2V7h2v10zm4 0h-2v-4h2v4z\"/>\n",
              "    </g>\n",
              "</svg>\n",
              "  </button>\n",
              "\n",
              "<style>\n",
              "  .colab-df-quickchart {\n",
              "      --bg-color: #E8F0FE;\n",
              "      --fill-color: #1967D2;\n",
              "      --hover-bg-color: #E2EBFA;\n",
              "      --hover-fill-color: #174EA6;\n",
              "      --disabled-fill-color: #AAA;\n",
              "      --disabled-bg-color: #DDD;\n",
              "  }\n",
              "\n",
              "  [theme=dark] .colab-df-quickchart {\n",
              "      --bg-color: #3B4455;\n",
              "      --fill-color: #D2E3FC;\n",
              "      --hover-bg-color: #434B5C;\n",
              "      --hover-fill-color: #FFFFFF;\n",
              "      --disabled-bg-color: #3B4455;\n",
              "      --disabled-fill-color: #666;\n",
              "  }\n",
              "\n",
              "  .colab-df-quickchart {\n",
              "    background-color: var(--bg-color);\n",
              "    border: none;\n",
              "    border-radius: 50%;\n",
              "    cursor: pointer;\n",
              "    display: none;\n",
              "    fill: var(--fill-color);\n",
              "    height: 32px;\n",
              "    padding: 0;\n",
              "    width: 32px;\n",
              "  }\n",
              "\n",
              "  .colab-df-quickchart:hover {\n",
              "    background-color: var(--hover-bg-color);\n",
              "    box-shadow: 0 1px 2px rgba(60, 64, 67, 0.3), 0 1px 3px 1px rgba(60, 64, 67, 0.15);\n",
              "    fill: var(--button-hover-fill-color);\n",
              "  }\n",
              "\n",
              "  .colab-df-quickchart-complete:disabled,\n",
              "  .colab-df-quickchart-complete:disabled:hover {\n",
              "    background-color: var(--disabled-bg-color);\n",
              "    fill: var(--disabled-fill-color);\n",
              "    box-shadow: none;\n",
              "  }\n",
              "\n",
              "  .colab-df-spinner {\n",
              "    border: 2px solid var(--fill-color);\n",
              "    border-color: transparent;\n",
              "    border-bottom-color: var(--fill-color);\n",
              "    animation:\n",
              "      spin 1s steps(1) infinite;\n",
              "  }\n",
              "\n",
              "  @keyframes spin {\n",
              "    0% {\n",
              "      border-color: transparent;\n",
              "      border-bottom-color: var(--fill-color);\n",
              "      border-left-color: var(--fill-color);\n",
              "    }\n",
              "    20% {\n",
              "      border-color: transparent;\n",
              "      border-left-color: var(--fill-color);\n",
              "      border-top-color: var(--fill-color);\n",
              "    }\n",
              "    30% {\n",
              "      border-color: transparent;\n",
              "      border-left-color: var(--fill-color);\n",
              "      border-top-color: var(--fill-color);\n",
              "      border-right-color: var(--fill-color);\n",
              "    }\n",
              "    40% {\n",
              "      border-color: transparent;\n",
              "      border-right-color: var(--fill-color);\n",
              "      border-top-color: var(--fill-color);\n",
              "    }\n",
              "    60% {\n",
              "      border-color: transparent;\n",
              "      border-right-color: var(--fill-color);\n",
              "    }\n",
              "    80% {\n",
              "      border-color: transparent;\n",
              "      border-right-color: var(--fill-color);\n",
              "      border-bottom-color: var(--fill-color);\n",
              "    }\n",
              "    90% {\n",
              "      border-color: transparent;\n",
              "      border-bottom-color: var(--fill-color);\n",
              "    }\n",
              "  }\n",
              "</style>\n",
              "\n",
              "  <script>\n",
              "    async function quickchart(key) {\n",
              "      const quickchartButtonEl =\n",
              "        document.querySelector('#' + key + ' button');\n",
              "      quickchartButtonEl.disabled = true;  // To prevent multiple clicks.\n",
              "      quickchartButtonEl.classList.add('colab-df-spinner');\n",
              "      try {\n",
              "        const charts = await google.colab.kernel.invokeFunction(\n",
              "            'suggestCharts', [key], {});\n",
              "      } catch (error) {\n",
              "        console.error('Error during call to suggestCharts:', error);\n",
              "      }\n",
              "      quickchartButtonEl.classList.remove('colab-df-spinner');\n",
              "      quickchartButtonEl.classList.add('colab-df-quickchart-complete');\n",
              "    }\n",
              "    (() => {\n",
              "      let quickchartButtonEl =\n",
              "        document.querySelector('#df-3e9a1a65-9f6b-4343-aa8c-89b892ca5949 button');\n",
              "      quickchartButtonEl.style.display =\n",
              "        google.colab.kernel.accessAllowed ? 'block' : 'none';\n",
              "    })();\n",
              "  </script>\n",
              "</div>\n",
              "\n",
              "    </div>\n",
              "  </div>\n"
            ],
            "text/plain": [
              "          Entity  Year  \\\n",
              "2498  Yugoslavia  1983   \n",
              "2499  Yugoslavia  1984   \n",
              "2500  Yugoslavia  1985   \n",
              "2501  Yugoslavia  1986   \n",
              "2502  Yugoslavia  1987   \n",
              "2503  Yugoslavia  1988   \n",
              "2504  Yugoslavia  1989   \n",
              "2505  Yugoslavia  1990   \n",
              "2506      Zambia  2004   \n",
              "2507    Zimbabwe  2004   \n",
              "\n",
              "      Male suicide rates for selected countries, 1950-2005 (WHO (2005))  \\\n",
              "2498                                                NaN                   \n",
              "2499                                                NaN                   \n",
              "2500                                                NaN                   \n",
              "2501                                                NaN                   \n",
              "2502                                                NaN                   \n",
              "2503                                                NaN                   \n",
              "2504                                                NaN                   \n",
              "2505                                                NaN                   \n",
              "2506                                                NaN                   \n",
              "2507                                                NaN                   \n",
              "\n",
              "      Male suicide rate (WHO (2005))  \n",
              "2498                       22.675980  \n",
              "2499                       23.241420  \n",
              "2500                       22.533320  \n",
              "2501                       22.323800  \n",
              "2502                       23.335500  \n",
              "2503                       22.127810  \n",
              "2504                       22.416100  \n",
              "2505                       20.807000  \n",
              "2506                       16.536091  \n",
              "2507                       18.836018  "
            ]
          },
          "execution_count": 11,
          "metadata": {},
          "output_type": "execute_result"
        }
      ],
      "source": [
        "# preview last 10 rows\n",
        "male_suicide_rates.tail(10)"
      ]
    },
    {
      "cell_type": "code",
      "execution_count": null,
      "metadata": {
        "colab": {
          "base_uri": "https://localhost:8080/"
        },
        "id": "rXHzX4XEX-pz",
        "outputId": "1ded54f8-6e65-46de-f2ab-6bff883cf99a"
      },
      "outputs": [
        {
          "data": {
            "text/plain": [
              "Index(['Entity', 'Year',\n",
              "       'Male suicide rates for selected countries, 1950-2005 (WHO (2005))',\n",
              "       'Male suicide rate (WHO (2005))'],\n",
              "      dtype='object')"
            ]
          },
          "execution_count": 12,
          "metadata": {},
          "output_type": "execute_result"
        }
      ],
      "source": [
        "# check column features\n",
        "male_suicide_rates.columns"
      ]
    },
    {
      "cell_type": "code",
      "execution_count": null,
      "metadata": {
        "colab": {
          "base_uri": "https://localhost:8080/"
        },
        "id": "vynto6PiX-md",
        "outputId": "56f8ab3c-13ea-41b3-bfe7-97daa52a07b9"
      },
      "outputs": [
        {
          "data": {
            "text/plain": [
              "(2508, 4)"
            ]
          },
          "execution_count": 13,
          "metadata": {},
          "output_type": "execute_result"
        }
      ],
      "source": [
        "# shape of the dataset\n",
        "male_suicide_rates.shape"
      ]
    },
    {
      "cell_type": "code",
      "execution_count": null,
      "metadata": {
        "colab": {
          "base_uri": "https://localhost:8080/"
        },
        "id": "r2evrpvuYrvJ",
        "outputId": "3e5213d7-c574-4799-bb15-fa5e430c852a"
      },
      "outputs": [
        {
          "name": "stdout",
          "output_type": "stream",
          "text": [
            "<class 'pandas.core.frame.DataFrame'>\n",
            "RangeIndex: 2508 entries, 0 to 2507\n",
            "Data columns (total 4 columns):\n",
            " #   Column                                                             Non-Null Count  Dtype  \n",
            "---  ------                                                             --------------  -----  \n",
            " 0   Entity                                                             2508 non-null   object \n",
            " 1   Year                                                               2508 non-null   int64  \n",
            " 2   Male suicide rates for selected countries, 1950-2005 (WHO (2005))  997 non-null    float64\n",
            " 3   Male suicide rate (WHO (2005))                                     2508 non-null   float64\n",
            "dtypes: float64(2), int64(1), object(1)\n",
            "memory usage: 78.5+ KB\n"
          ]
        }
      ],
      "source": [
        "# concise summary of the dataset\n",
        "male_suicide_rates.info()"
      ]
    },
    {
      "cell_type": "code",
      "execution_count": null,
      "metadata": {
        "colab": {
          "base_uri": "https://localhost:8080/"
        },
        "id": "0_kb99UidfmD",
        "outputId": "6a308109-3787-4159-a544-cb930704cf73"
      },
      "outputs": [
        {
          "name": "stdout",
          "output_type": "stream",
          "text": [
            "Proportion of missing values in each column:\n",
            "Entity                                                                0.000000\n",
            "Year                                                                  0.000000\n",
            "Male suicide rates for selected countries, 1950-2005 (WHO (2005))    60.247209\n",
            "Male suicide rate (WHO (2005))                                        0.000000\n",
            "dtype: float64\n"
          ]
        }
      ],
      "source": [
        "# Calculate the proportion of missing values in each column\n",
        "proportion_missing = (male_suicide_rates.isna().sum() / len(male_suicide_rates)) * 100\n",
        "\n",
        "# Print the proportion of missing values in each column\n",
        "print(\"Proportion of missing values in each column:\")\n",
        "print(proportion_missing)"
      ]
    },
    {
      "cell_type": "markdown",
      "metadata": {
        "id": "L5aKnV2uY9rY"
      },
      "source": [
        "Observations:\n",
        "\n",
        "* The male suicide rates dataset shares many features with the female dataset, with the notable difference being its larger size of 2508 rows.\n",
        "* The third column of the dataset also contains some missing values that will need to be addressed."
      ]
    },
    {
      "cell_type": "markdown",
      "metadata": {
        "id": "6LhABIeRZuD2"
      },
      "source": [
        "## Data preparation"
      ]
    },
    {
      "cell_type": "markdown",
      "metadata": {
        "id": "dAsV6PLJcADt"
      },
      "source": [
        "This section prepares the data for analysis by:\n",
        "* Handling missing values\n",
        "* Merging the two datasets"
      ]
    },
    {
      "cell_type": "markdown",
      "metadata": {
        "id": "jl8sT_BlcjTD"
      },
      "source": [
        "### Handling missing values"
      ]
    },
    {
      "cell_type": "markdown",
      "metadata": {
        "id": "Wo_FfFNscmMo"
      },
      "source": [
        "Information derived from data analysis significantly influences decision-making processes. Therefore, the data utilized in any analysis must prioritize accuracy to guarantee that the resulting insights are reliable and valid. Data accuracy hinges on completeness, as incomplete data can compromise the validity of the analysis. Consequently, it is paramount to address instances of missing values as they can distort the conclusions drawn from the data.\n",
        "\n",
        "Missing values occur when a particular variable lacks data points, resulting in incomplete information and potentially harming the accuracy and dependability of the data. Various methods can be applied in handling instances of missing values, including deletion, imputation, or interpolation.\n",
        "\n",
        "**Deletion** involves removing observations with missing values entirely, which can streamline the dataset but may lead to loss of valuable information. **Imputation** on the other hand involves filling in missing values with estimated or calculated values based on existing data such as the mean, median or mode of the relevant value. Finally, **interpolation** involves estimating missing values based on the values of neighboring data points, making it particularly useful for time-series or sequential data but may not be suitable for all datasets.\n",
        "\n",
        "In both the male and female suicide rates datasets, the proportion of missing values exceeds 50%, standing at approximately 60%. Given this high percentage of missing data, the most suitable approach is to drop the columns containing missing values entirely. While imputation techniques could be employed to fill in the missing values, imputing more than 50% of the data in a column becomes increasingly challenging as imputed values may introduce additional uncertainty and may not accurately reflect the true values, potentially skewing the analysis and leading to misleading conclusions. Therefore, to ensure the integrity and reliability of the data analysis, it is prudent to remove columns with excessive missing values rather than attempting imputation."
      ]
    },
    {
      "cell_type": "code",
      "execution_count": null,
      "metadata": {
        "colab": {
          "base_uri": "https://localhost:8080/"
        },
        "id": "99IGddfbet5U",
        "outputId": "16779866-256a-4520-868e-8ed42563c2a4"
      },
      "outputs": [
        {
          "name": "stdout",
          "output_type": "stream",
          "text": [
            "Entity                              0\n",
            "Year                                0\n",
            "Female suicide rate (WHO (2005))    0\n",
            "dtype: int64\n"
          ]
        }
      ],
      "source": [
        "# Drop the columns with missing values in female dataset\n",
        "female_suicide_rates = female_suicide_rates.drop(columns=['Female suicide rates for selected countries, 1950-2005 (WHO (2015))'])\n",
        "print(female_suicide_rates.isna().sum())"
      ]
    },
    {
      "cell_type": "code",
      "execution_count": null,
      "metadata": {
        "colab": {
          "base_uri": "https://localhost:8080/"
        },
        "id": "RmIQBMIQf324",
        "outputId": "07771c88-a6c4-439a-f741-92bbdd0855d1"
      },
      "outputs": [
        {
          "name": "stdout",
          "output_type": "stream",
          "text": [
            "Entity                            0\n",
            "Year                              0\n",
            "Male suicide rate (WHO (2005))    0\n",
            "dtype: int64\n"
          ]
        }
      ],
      "source": [
        "# Drop the columns with missing values in male dataset\n",
        "male_suicide_rates = male_suicide_rates.drop(columns=['Male suicide rates for selected countries, 1950-2005 (WHO (2005))'])\n",
        "print(male_suicide_rates.isna().sum())"
      ]
    },
    {
      "cell_type": "markdown",
      "metadata": {
        "id": "HVpzmWiKcama"
      },
      "source": [
        "Now that the missing values in both datasets have been addressed, the next step is merging the datasets."
      ]
    },
    {
      "cell_type": "markdown",
      "metadata": {
        "id": "Ev8iaDTkgLO_"
      },
      "source": [
        "### Merging the datasets"
      ]
    },
    {
      "cell_type": "markdown",
      "metadata": {
        "id": "7zE6GCXNgOyg"
      },
      "source": [
        "Data merging involves combining data from multiple sources, often disparate or heterogeneous, into a single, unified dataset. This process serves various purposes, such as adding parameters to a database, appending instances or observations, and removing repetitions and inaccurate data. The outcome is a consolidated dataset that provides a holistic view of the data, making it easier to analyze, draw insights from, and make informed decisions.\n",
        "\n",
        "Since both the male and female suicide rates datasets contain information about suicide rates, merging them will allow for a consolidated view of suicide rates across genders, enabling more effective cross-gender analysis and comparisons.This will enhance the depth of analysis and enable a more nuanced exploration of trends, patterns, and correlations related to suicide rates."
      ]
    },
    {
      "cell_type": "code",
      "execution_count": null,
      "metadata": {
        "colab": {
          "base_uri": "https://localhost:8080/",
          "height": 424
        },
        "id": "K5IVazeguoF7",
        "outputId": "111e7821-c06f-4706-8c08-68d2695f9068"
      },
      "outputs": [
        {
          "data": {
            "application/vnd.google.colaboratory.intrinsic+json": {
              "summary": "{\n  \"name\": \"suicide_rates\",\n  \"rows\": 2502,\n  \"fields\": [\n    {\n      \"column\": \"Entity\",\n      \"properties\": {\n        \"dtype\": \"category\",\n        \"num_unique_values\": 194,\n        \"samples\": [\n          \"Romania\",\n          \"Belize\",\n          \"Solomon Islands\"\n        ],\n        \"semantic_type\": \"\",\n        \"description\": \"\"\n      }\n    },\n    {\n      \"column\": \"Year\",\n      \"properties\": {\n        \"dtype\": \"number\",\n        \"std\": 15,\n        \"min\": 1950,\n        \"max\": 2004,\n        \"num_unique_values\": 55,\n        \"samples\": [\n          2002,\n          1970,\n          2003\n        ],\n        \"semantic_type\": \"\",\n        \"description\": \"\"\n      }\n    },\n    {\n      \"column\": \"Female suicide rate (WHO (2005))\",\n      \"properties\": {\n        \"dtype\": \"number\",\n        \"std\": 4.1077201473674885,\n        \"min\": 0.0244919,\n        \"max\": 26.97296906,\n        \"num_unique_values\": 2502,\n        \"samples\": [\n          4.079931,\n          2.461356163,\n          5.557875\n        ],\n        \"semantic_type\": \"\",\n        \"description\": \"\"\n      }\n    },\n    {\n      \"column\": \"Male suicide rate (WHO (2005))\",\n      \"properties\": {\n        \"dtype\": \"number\",\n        \"std\": 13.070349938609452,\n        \"min\": 0.0607529,\n        \"max\": 80.42894,\n        \"num_unique_values\": 2502,\n        \"samples\": [\n          21.73415,\n          10.59158802,\n          13.63582\n        ],\n        \"semantic_type\": \"\",\n        \"description\": \"\"\n      }\n    }\n  ]\n}",
              "type": "dataframe",
              "variable_name": "suicide_rates"
            },
            "text/html": [
              "\n",
              "  <div id=\"df-525bab00-e6f9-4a42-92be-186ab4bb6d0e\" class=\"colab-df-container\">\n",
              "    <div>\n",
              "<style scoped>\n",
              "    .dataframe tbody tr th:only-of-type {\n",
              "        vertical-align: middle;\n",
              "    }\n",
              "\n",
              "    .dataframe tbody tr th {\n",
              "        vertical-align: top;\n",
              "    }\n",
              "\n",
              "    .dataframe thead th {\n",
              "        text-align: right;\n",
              "    }\n",
              "</style>\n",
              "<table border=\"1\" class=\"dataframe\">\n",
              "  <thead>\n",
              "    <tr style=\"text-align: right;\">\n",
              "      <th></th>\n",
              "      <th>Entity</th>\n",
              "      <th>Year</th>\n",
              "      <th>Female suicide rate (WHO (2005))</th>\n",
              "      <th>Male suicide rate (WHO (2005))</th>\n",
              "    </tr>\n",
              "  </thead>\n",
              "  <tbody>\n",
              "    <tr>\n",
              "      <th>0</th>\n",
              "      <td>Afghanistan</td>\n",
              "      <td>2004</td>\n",
              "      <td>8.630156</td>\n",
              "      <td>4.884804</td>\n",
              "    </tr>\n",
              "    <tr>\n",
              "      <th>1</th>\n",
              "      <td>Albania</td>\n",
              "      <td>2004</td>\n",
              "      <td>6.060875</td>\n",
              "      <td>9.330574</td>\n",
              "    </tr>\n",
              "    <tr>\n",
              "      <th>2</th>\n",
              "      <td>Algeria</td>\n",
              "      <td>2004</td>\n",
              "      <td>4.600765</td>\n",
              "      <td>5.145025</td>\n",
              "    </tr>\n",
              "    <tr>\n",
              "      <th>3</th>\n",
              "      <td>Andorra</td>\n",
              "      <td>2004</td>\n",
              "      <td>2.902797</td>\n",
              "      <td>8.048293</td>\n",
              "    </tr>\n",
              "    <tr>\n",
              "      <th>4</th>\n",
              "      <td>Angola</td>\n",
              "      <td>2004</td>\n",
              "      <td>8.143820</td>\n",
              "      <td>21.472977</td>\n",
              "    </tr>\n",
              "    <tr>\n",
              "      <th>...</th>\n",
              "      <td>...</td>\n",
              "      <td>...</td>\n",
              "      <td>...</td>\n",
              "      <td>...</td>\n",
              "    </tr>\n",
              "    <tr>\n",
              "      <th>2497</th>\n",
              "      <td>Yugoslavia</td>\n",
              "      <td>1988</td>\n",
              "      <td>8.753218</td>\n",
              "      <td>22.127810</td>\n",
              "    </tr>\n",
              "    <tr>\n",
              "      <th>2498</th>\n",
              "      <td>Yugoslavia</td>\n",
              "      <td>1989</td>\n",
              "      <td>8.518538</td>\n",
              "      <td>22.416100</td>\n",
              "    </tr>\n",
              "    <tr>\n",
              "      <th>2499</th>\n",
              "      <td>Yugoslavia</td>\n",
              "      <td>1990</td>\n",
              "      <td>7.793037</td>\n",
              "      <td>20.807000</td>\n",
              "    </tr>\n",
              "    <tr>\n",
              "      <th>2500</th>\n",
              "      <td>Zambia</td>\n",
              "      <td>2004</td>\n",
              "      <td>7.959891</td>\n",
              "      <td>16.536091</td>\n",
              "    </tr>\n",
              "    <tr>\n",
              "      <th>2501</th>\n",
              "      <td>Zimbabwe</td>\n",
              "      <td>2004</td>\n",
              "      <td>9.376059</td>\n",
              "      <td>18.836018</td>\n",
              "    </tr>\n",
              "  </tbody>\n",
              "</table>\n",
              "<p>2502 rows × 4 columns</p>\n",
              "</div>\n",
              "    <div class=\"colab-df-buttons\">\n",
              "\n",
              "  <div class=\"colab-df-container\">\n",
              "    <button class=\"colab-df-convert\" onclick=\"convertToInteractive('df-525bab00-e6f9-4a42-92be-186ab4bb6d0e')\"\n",
              "            title=\"Convert this dataframe to an interactive table.\"\n",
              "            style=\"display:none;\">\n",
              "\n",
              "  <svg xmlns=\"http://www.w3.org/2000/svg\" height=\"24px\" viewBox=\"0 -960 960 960\">\n",
              "    <path d=\"M120-120v-720h720v720H120Zm60-500h600v-160H180v160Zm220 220h160v-160H400v160Zm0 220h160v-160H400v160ZM180-400h160v-160H180v160Zm440 0h160v-160H620v160ZM180-180h160v-160H180v160Zm440 0h160v-160H620v160Z\"/>\n",
              "  </svg>\n",
              "    </button>\n",
              "\n",
              "  <style>\n",
              "    .colab-df-container {\n",
              "      display:flex;\n",
              "      gap: 12px;\n",
              "    }\n",
              "\n",
              "    .colab-df-convert {\n",
              "      background-color: #E8F0FE;\n",
              "      border: none;\n",
              "      border-radius: 50%;\n",
              "      cursor: pointer;\n",
              "      display: none;\n",
              "      fill: #1967D2;\n",
              "      height: 32px;\n",
              "      padding: 0 0 0 0;\n",
              "      width: 32px;\n",
              "    }\n",
              "\n",
              "    .colab-df-convert:hover {\n",
              "      background-color: #E2EBFA;\n",
              "      box-shadow: 0px 1px 2px rgba(60, 64, 67, 0.3), 0px 1px 3px 1px rgba(60, 64, 67, 0.15);\n",
              "      fill: #174EA6;\n",
              "    }\n",
              "\n",
              "    .colab-df-buttons div {\n",
              "      margin-bottom: 4px;\n",
              "    }\n",
              "\n",
              "    [theme=dark] .colab-df-convert {\n",
              "      background-color: #3B4455;\n",
              "      fill: #D2E3FC;\n",
              "    }\n",
              "\n",
              "    [theme=dark] .colab-df-convert:hover {\n",
              "      background-color: #434B5C;\n",
              "      box-shadow: 0px 1px 3px 1px rgba(0, 0, 0, 0.15);\n",
              "      filter: drop-shadow(0px 1px 2px rgba(0, 0, 0, 0.3));\n",
              "      fill: #FFFFFF;\n",
              "    }\n",
              "  </style>\n",
              "\n",
              "    <script>\n",
              "      const buttonEl =\n",
              "        document.querySelector('#df-525bab00-e6f9-4a42-92be-186ab4bb6d0e button.colab-df-convert');\n",
              "      buttonEl.style.display =\n",
              "        google.colab.kernel.accessAllowed ? 'block' : 'none';\n",
              "\n",
              "      async function convertToInteractive(key) {\n",
              "        const element = document.querySelector('#df-525bab00-e6f9-4a42-92be-186ab4bb6d0e');\n",
              "        const dataTable =\n",
              "          await google.colab.kernel.invokeFunction('convertToInteractive',\n",
              "                                                    [key], {});\n",
              "        if (!dataTable) return;\n",
              "\n",
              "        const docLinkHtml = 'Like what you see? Visit the ' +\n",
              "          '<a target=\"_blank\" href=https://colab.research.google.com/notebooks/data_table.ipynb>data table notebook</a>'\n",
              "          + ' to learn more about interactive tables.';\n",
              "        element.innerHTML = '';\n",
              "        dataTable['output_type'] = 'display_data';\n",
              "        await google.colab.output.renderOutput(dataTable, element);\n",
              "        const docLink = document.createElement('div');\n",
              "        docLink.innerHTML = docLinkHtml;\n",
              "        element.appendChild(docLink);\n",
              "      }\n",
              "    </script>\n",
              "  </div>\n",
              "\n",
              "\n",
              "<div id=\"df-119f04db-9158-45cd-81b1-d8559b2b92d3\">\n",
              "  <button class=\"colab-df-quickchart\" onclick=\"quickchart('df-119f04db-9158-45cd-81b1-d8559b2b92d3')\"\n",
              "            title=\"Suggest charts\"\n",
              "            style=\"display:none;\">\n",
              "\n",
              "<svg xmlns=\"http://www.w3.org/2000/svg\" height=\"24px\"viewBox=\"0 0 24 24\"\n",
              "     width=\"24px\">\n",
              "    <g>\n",
              "        <path d=\"M19 3H5c-1.1 0-2 .9-2 2v14c0 1.1.9 2 2 2h14c1.1 0 2-.9 2-2V5c0-1.1-.9-2-2-2zM9 17H7v-7h2v7zm4 0h-2V7h2v10zm4 0h-2v-4h2v4z\"/>\n",
              "    </g>\n",
              "</svg>\n",
              "  </button>\n",
              "\n",
              "<style>\n",
              "  .colab-df-quickchart {\n",
              "      --bg-color: #E8F0FE;\n",
              "      --fill-color: #1967D2;\n",
              "      --hover-bg-color: #E2EBFA;\n",
              "      --hover-fill-color: #174EA6;\n",
              "      --disabled-fill-color: #AAA;\n",
              "      --disabled-bg-color: #DDD;\n",
              "  }\n",
              "\n",
              "  [theme=dark] .colab-df-quickchart {\n",
              "      --bg-color: #3B4455;\n",
              "      --fill-color: #D2E3FC;\n",
              "      --hover-bg-color: #434B5C;\n",
              "      --hover-fill-color: #FFFFFF;\n",
              "      --disabled-bg-color: #3B4455;\n",
              "      --disabled-fill-color: #666;\n",
              "  }\n",
              "\n",
              "  .colab-df-quickchart {\n",
              "    background-color: var(--bg-color);\n",
              "    border: none;\n",
              "    border-radius: 50%;\n",
              "    cursor: pointer;\n",
              "    display: none;\n",
              "    fill: var(--fill-color);\n",
              "    height: 32px;\n",
              "    padding: 0;\n",
              "    width: 32px;\n",
              "  }\n",
              "\n",
              "  .colab-df-quickchart:hover {\n",
              "    background-color: var(--hover-bg-color);\n",
              "    box-shadow: 0 1px 2px rgba(60, 64, 67, 0.3), 0 1px 3px 1px rgba(60, 64, 67, 0.15);\n",
              "    fill: var(--button-hover-fill-color);\n",
              "  }\n",
              "\n",
              "  .colab-df-quickchart-complete:disabled,\n",
              "  .colab-df-quickchart-complete:disabled:hover {\n",
              "    background-color: var(--disabled-bg-color);\n",
              "    fill: var(--disabled-fill-color);\n",
              "    box-shadow: none;\n",
              "  }\n",
              "\n",
              "  .colab-df-spinner {\n",
              "    border: 2px solid var(--fill-color);\n",
              "    border-color: transparent;\n",
              "    border-bottom-color: var(--fill-color);\n",
              "    animation:\n",
              "      spin 1s steps(1) infinite;\n",
              "  }\n",
              "\n",
              "  @keyframes spin {\n",
              "    0% {\n",
              "      border-color: transparent;\n",
              "      border-bottom-color: var(--fill-color);\n",
              "      border-left-color: var(--fill-color);\n",
              "    }\n",
              "    20% {\n",
              "      border-color: transparent;\n",
              "      border-left-color: var(--fill-color);\n",
              "      border-top-color: var(--fill-color);\n",
              "    }\n",
              "    30% {\n",
              "      border-color: transparent;\n",
              "      border-left-color: var(--fill-color);\n",
              "      border-top-color: var(--fill-color);\n",
              "      border-right-color: var(--fill-color);\n",
              "    }\n",
              "    40% {\n",
              "      border-color: transparent;\n",
              "      border-right-color: var(--fill-color);\n",
              "      border-top-color: var(--fill-color);\n",
              "    }\n",
              "    60% {\n",
              "      border-color: transparent;\n",
              "      border-right-color: var(--fill-color);\n",
              "    }\n",
              "    80% {\n",
              "      border-color: transparent;\n",
              "      border-right-color: var(--fill-color);\n",
              "      border-bottom-color: var(--fill-color);\n",
              "    }\n",
              "    90% {\n",
              "      border-color: transparent;\n",
              "      border-bottom-color: var(--fill-color);\n",
              "    }\n",
              "  }\n",
              "</style>\n",
              "\n",
              "  <script>\n",
              "    async function quickchart(key) {\n",
              "      const quickchartButtonEl =\n",
              "        document.querySelector('#' + key + ' button');\n",
              "      quickchartButtonEl.disabled = true;  // To prevent multiple clicks.\n",
              "      quickchartButtonEl.classList.add('colab-df-spinner');\n",
              "      try {\n",
              "        const charts = await google.colab.kernel.invokeFunction(\n",
              "            'suggestCharts', [key], {});\n",
              "      } catch (error) {\n",
              "        console.error('Error during call to suggestCharts:', error);\n",
              "      }\n",
              "      quickchartButtonEl.classList.remove('colab-df-spinner');\n",
              "      quickchartButtonEl.classList.add('colab-df-quickchart-complete');\n",
              "    }\n",
              "    (() => {\n",
              "      let quickchartButtonEl =\n",
              "        document.querySelector('#df-119f04db-9158-45cd-81b1-d8559b2b92d3 button');\n",
              "      quickchartButtonEl.style.display =\n",
              "        google.colab.kernel.accessAllowed ? 'block' : 'none';\n",
              "    })();\n",
              "  </script>\n",
              "</div>\n",
              "\n",
              "  <div id=\"id_68fd482d-fd10-428e-b444-0c0182a03f3c\">\n",
              "    <style>\n",
              "      .colab-df-generate {\n",
              "        background-color: #E8F0FE;\n",
              "        border: none;\n",
              "        border-radius: 50%;\n",
              "        cursor: pointer;\n",
              "        display: none;\n",
              "        fill: #1967D2;\n",
              "        height: 32px;\n",
              "        padding: 0 0 0 0;\n",
              "        width: 32px;\n",
              "      }\n",
              "\n",
              "      .colab-df-generate:hover {\n",
              "        background-color: #E2EBFA;\n",
              "        box-shadow: 0px 1px 2px rgba(60, 64, 67, 0.3), 0px 1px 3px 1px rgba(60, 64, 67, 0.15);\n",
              "        fill: #174EA6;\n",
              "      }\n",
              "\n",
              "      [theme=dark] .colab-df-generate {\n",
              "        background-color: #3B4455;\n",
              "        fill: #D2E3FC;\n",
              "      }\n",
              "\n",
              "      [theme=dark] .colab-df-generate:hover {\n",
              "        background-color: #434B5C;\n",
              "        box-shadow: 0px 1px 3px 1px rgba(0, 0, 0, 0.15);\n",
              "        filter: drop-shadow(0px 1px 2px rgba(0, 0, 0, 0.3));\n",
              "        fill: #FFFFFF;\n",
              "      }\n",
              "    </style>\n",
              "    <button class=\"colab-df-generate\" onclick=\"generateWithVariable('suicide_rates')\"\n",
              "            title=\"Generate code using this dataframe.\"\n",
              "            style=\"display:none;\">\n",
              "\n",
              "  <svg xmlns=\"http://www.w3.org/2000/svg\" height=\"24px\"viewBox=\"0 0 24 24\"\n",
              "       width=\"24px\">\n",
              "    <path d=\"M7,19H8.4L18.45,9,17,7.55,7,17.6ZM5,21V16.75L18.45,3.32a2,2,0,0,1,2.83,0l1.4,1.43a1.91,1.91,0,0,1,.58,1.4,1.91,1.91,0,0,1-.58,1.4L9.25,21ZM18.45,9,17,7.55Zm-12,3A5.31,5.31,0,0,0,4.9,8.1,5.31,5.31,0,0,0,1,6.5,5.31,5.31,0,0,0,4.9,4.9,5.31,5.31,0,0,0,6.5,1,5.31,5.31,0,0,0,8.1,4.9,5.31,5.31,0,0,0,12,6.5,5.46,5.46,0,0,0,6.5,12Z\"/>\n",
              "  </svg>\n",
              "    </button>\n",
              "    <script>\n",
              "      (() => {\n",
              "      const buttonEl =\n",
              "        document.querySelector('#id_68fd482d-fd10-428e-b444-0c0182a03f3c button.colab-df-generate');\n",
              "      buttonEl.style.display =\n",
              "        google.colab.kernel.accessAllowed ? 'block' : 'none';\n",
              "\n",
              "      buttonEl.onclick = () => {\n",
              "        google.colab.notebook.generateWithVariable('suicide_rates');\n",
              "      }\n",
              "      })();\n",
              "    </script>\n",
              "  </div>\n",
              "\n",
              "    </div>\n",
              "  </div>\n"
            ],
            "text/plain": [
              "           Entity  Year  Female suicide rate (WHO (2005))  \\\n",
              "0     Afghanistan  2004                          8.630156   \n",
              "1         Albania  2004                          6.060875   \n",
              "2         Algeria  2004                          4.600765   \n",
              "3         Andorra  2004                          2.902797   \n",
              "4          Angola  2004                          8.143820   \n",
              "...           ...   ...                               ...   \n",
              "2497   Yugoslavia  1988                          8.753218   \n",
              "2498   Yugoslavia  1989                          8.518538   \n",
              "2499   Yugoslavia  1990                          7.793037   \n",
              "2500       Zambia  2004                          7.959891   \n",
              "2501     Zimbabwe  2004                          9.376059   \n",
              "\n",
              "      Male suicide rate (WHO (2005))  \n",
              "0                           4.884804  \n",
              "1                           9.330574  \n",
              "2                           5.145025  \n",
              "3                           8.048293  \n",
              "4                          21.472977  \n",
              "...                              ...  \n",
              "2497                       22.127810  \n",
              "2498                       22.416100  \n",
              "2499                       20.807000  \n",
              "2500                       16.536091  \n",
              "2501                       18.836018  \n",
              "\n",
              "[2502 rows x 4 columns]"
            ]
          },
          "execution_count": 18,
          "metadata": {},
          "output_type": "execute_result"
        }
      ],
      "source": [
        "# Merge the two datasets based on shared columns\n",
        "suicide_rates = pd.merge(female_suicide_rates, male_suicide_rates, on=['Entity', 'Year'])\n",
        "suicide_rates"
      ]
    },
    {
      "cell_type": "code",
      "execution_count": null,
      "metadata": {
        "colab": {
          "base_uri": "https://localhost:8080/",
          "height": 363
        },
        "id": "Tf6Z6sdBvQtO",
        "outputId": "d89757c9-cb94-4b8c-de1e-25d51cffff25"
      },
      "outputs": [
        {
          "data": {
            "application/vnd.google.colaboratory.intrinsic+json": {
              "summary": "{\n  \"name\": \"suicide_rates\",\n  \"rows\": 2502,\n  \"fields\": [\n    {\n      \"column\": \"Entity\",\n      \"properties\": {\n        \"dtype\": \"category\",\n        \"num_unique_values\": 194,\n        \"samples\": [\n          \"Romania\",\n          \"Belize\",\n          \"Solomon Islands\"\n        ],\n        \"semantic_type\": \"\",\n        \"description\": \"\"\n      }\n    },\n    {\n      \"column\": \"Year\",\n      \"properties\": {\n        \"dtype\": \"number\",\n        \"std\": 15,\n        \"min\": 1950,\n        \"max\": 2004,\n        \"num_unique_values\": 55,\n        \"samples\": [\n          2002,\n          1970,\n          2003\n        ],\n        \"semantic_type\": \"\",\n        \"description\": \"\"\n      }\n    },\n    {\n      \"column\": \"Female suicide rate (WHO (2005))\",\n      \"properties\": {\n        \"dtype\": \"number\",\n        \"std\": 4.1077201473674885,\n        \"min\": 0.0244919,\n        \"max\": 26.97296906,\n        \"num_unique_values\": 2502,\n        \"samples\": [\n          4.079931,\n          2.461356163,\n          5.557875\n        ],\n        \"semantic_type\": \"\",\n        \"description\": \"\"\n      }\n    },\n    {\n      \"column\": \"Male suicide rate (WHO (2005))\",\n      \"properties\": {\n        \"dtype\": \"number\",\n        \"std\": 13.070349938609452,\n        \"min\": 0.0607529,\n        \"max\": 80.42894,\n        \"num_unique_values\": 2502,\n        \"samples\": [\n          21.73415,\n          10.59158802,\n          13.63582\n        ],\n        \"semantic_type\": \"\",\n        \"description\": \"\"\n      }\n    }\n  ]\n}",
              "type": "dataframe",
              "variable_name": "suicide_rates"
            },
            "text/html": [
              "\n",
              "  <div id=\"df-23295c9d-bd9a-48ed-8b16-adf38cefe010\" class=\"colab-df-container\">\n",
              "    <div>\n",
              "<style scoped>\n",
              "    .dataframe tbody tr th:only-of-type {\n",
              "        vertical-align: middle;\n",
              "    }\n",
              "\n",
              "    .dataframe tbody tr th {\n",
              "        vertical-align: top;\n",
              "    }\n",
              "\n",
              "    .dataframe thead th {\n",
              "        text-align: right;\n",
              "    }\n",
              "</style>\n",
              "<table border=\"1\" class=\"dataframe\">\n",
              "  <thead>\n",
              "    <tr style=\"text-align: right;\">\n",
              "      <th></th>\n",
              "      <th>Entity</th>\n",
              "      <th>Year</th>\n",
              "      <th>Female suicide rate (WHO (2005))</th>\n",
              "      <th>Male suicide rate (WHO (2005))</th>\n",
              "    </tr>\n",
              "  </thead>\n",
              "  <tbody>\n",
              "    <tr>\n",
              "      <th>0</th>\n",
              "      <td>Afghanistan</td>\n",
              "      <td>2004</td>\n",
              "      <td>8.630156</td>\n",
              "      <td>4.884804</td>\n",
              "    </tr>\n",
              "    <tr>\n",
              "      <th>1</th>\n",
              "      <td>Albania</td>\n",
              "      <td>2004</td>\n",
              "      <td>6.060875</td>\n",
              "      <td>9.330574</td>\n",
              "    </tr>\n",
              "    <tr>\n",
              "      <th>2</th>\n",
              "      <td>Algeria</td>\n",
              "      <td>2004</td>\n",
              "      <td>4.600765</td>\n",
              "      <td>5.145025</td>\n",
              "    </tr>\n",
              "    <tr>\n",
              "      <th>3</th>\n",
              "      <td>Andorra</td>\n",
              "      <td>2004</td>\n",
              "      <td>2.902797</td>\n",
              "      <td>8.048293</td>\n",
              "    </tr>\n",
              "    <tr>\n",
              "      <th>4</th>\n",
              "      <td>Angola</td>\n",
              "      <td>2004</td>\n",
              "      <td>8.143820</td>\n",
              "      <td>21.472977</td>\n",
              "    </tr>\n",
              "    <tr>\n",
              "      <th>5</th>\n",
              "      <td>Argentina</td>\n",
              "      <td>1966</td>\n",
              "      <td>3.773803</td>\n",
              "      <td>12.203960</td>\n",
              "    </tr>\n",
              "    <tr>\n",
              "      <th>6</th>\n",
              "      <td>Argentina</td>\n",
              "      <td>1967</td>\n",
              "      <td>4.522207</td>\n",
              "      <td>15.552110</td>\n",
              "    </tr>\n",
              "    <tr>\n",
              "      <th>7</th>\n",
              "      <td>Argentina</td>\n",
              "      <td>1968</td>\n",
              "      <td>4.950262</td>\n",
              "      <td>16.782040</td>\n",
              "    </tr>\n",
              "    <tr>\n",
              "      <th>8</th>\n",
              "      <td>Argentina</td>\n",
              "      <td>1969</td>\n",
              "      <td>4.472790</td>\n",
              "      <td>16.776400</td>\n",
              "    </tr>\n",
              "    <tr>\n",
              "      <th>9</th>\n",
              "      <td>Argentina</td>\n",
              "      <td>1970</td>\n",
              "      <td>5.086274</td>\n",
              "      <td>16.044990</td>\n",
              "    </tr>\n",
              "  </tbody>\n",
              "</table>\n",
              "</div>\n",
              "    <div class=\"colab-df-buttons\">\n",
              "\n",
              "  <div class=\"colab-df-container\">\n",
              "    <button class=\"colab-df-convert\" onclick=\"convertToInteractive('df-23295c9d-bd9a-48ed-8b16-adf38cefe010')\"\n",
              "            title=\"Convert this dataframe to an interactive table.\"\n",
              "            style=\"display:none;\">\n",
              "\n",
              "  <svg xmlns=\"http://www.w3.org/2000/svg\" height=\"24px\" viewBox=\"0 -960 960 960\">\n",
              "    <path d=\"M120-120v-720h720v720H120Zm60-500h600v-160H180v160Zm220 220h160v-160H400v160Zm0 220h160v-160H400v160ZM180-400h160v-160H180v160Zm440 0h160v-160H620v160ZM180-180h160v-160H180v160Zm440 0h160v-160H620v160Z\"/>\n",
              "  </svg>\n",
              "    </button>\n",
              "\n",
              "  <style>\n",
              "    .colab-df-container {\n",
              "      display:flex;\n",
              "      gap: 12px;\n",
              "    }\n",
              "\n",
              "    .colab-df-convert {\n",
              "      background-color: #E8F0FE;\n",
              "      border: none;\n",
              "      border-radius: 50%;\n",
              "      cursor: pointer;\n",
              "      display: none;\n",
              "      fill: #1967D2;\n",
              "      height: 32px;\n",
              "      padding: 0 0 0 0;\n",
              "      width: 32px;\n",
              "    }\n",
              "\n",
              "    .colab-df-convert:hover {\n",
              "      background-color: #E2EBFA;\n",
              "      box-shadow: 0px 1px 2px rgba(60, 64, 67, 0.3), 0px 1px 3px 1px rgba(60, 64, 67, 0.15);\n",
              "      fill: #174EA6;\n",
              "    }\n",
              "\n",
              "    .colab-df-buttons div {\n",
              "      margin-bottom: 4px;\n",
              "    }\n",
              "\n",
              "    [theme=dark] .colab-df-convert {\n",
              "      background-color: #3B4455;\n",
              "      fill: #D2E3FC;\n",
              "    }\n",
              "\n",
              "    [theme=dark] .colab-df-convert:hover {\n",
              "      background-color: #434B5C;\n",
              "      box-shadow: 0px 1px 3px 1px rgba(0, 0, 0, 0.15);\n",
              "      filter: drop-shadow(0px 1px 2px rgba(0, 0, 0, 0.3));\n",
              "      fill: #FFFFFF;\n",
              "    }\n",
              "  </style>\n",
              "\n",
              "    <script>\n",
              "      const buttonEl =\n",
              "        document.querySelector('#df-23295c9d-bd9a-48ed-8b16-adf38cefe010 button.colab-df-convert');\n",
              "      buttonEl.style.display =\n",
              "        google.colab.kernel.accessAllowed ? 'block' : 'none';\n",
              "\n",
              "      async function convertToInteractive(key) {\n",
              "        const element = document.querySelector('#df-23295c9d-bd9a-48ed-8b16-adf38cefe010');\n",
              "        const dataTable =\n",
              "          await google.colab.kernel.invokeFunction('convertToInteractive',\n",
              "                                                    [key], {});\n",
              "        if (!dataTable) return;\n",
              "\n",
              "        const docLinkHtml = 'Like what you see? Visit the ' +\n",
              "          '<a target=\"_blank\" href=https://colab.research.google.com/notebooks/data_table.ipynb>data table notebook</a>'\n",
              "          + ' to learn more about interactive tables.';\n",
              "        element.innerHTML = '';\n",
              "        dataTable['output_type'] = 'display_data';\n",
              "        await google.colab.output.renderOutput(dataTable, element);\n",
              "        const docLink = document.createElement('div');\n",
              "        docLink.innerHTML = docLinkHtml;\n",
              "        element.appendChild(docLink);\n",
              "      }\n",
              "    </script>\n",
              "  </div>\n",
              "\n",
              "\n",
              "<div id=\"df-cfdd054e-8fbc-4c5c-ba2e-d134acdc718d\">\n",
              "  <button class=\"colab-df-quickchart\" onclick=\"quickchart('df-cfdd054e-8fbc-4c5c-ba2e-d134acdc718d')\"\n",
              "            title=\"Suggest charts\"\n",
              "            style=\"display:none;\">\n",
              "\n",
              "<svg xmlns=\"http://www.w3.org/2000/svg\" height=\"24px\"viewBox=\"0 0 24 24\"\n",
              "     width=\"24px\">\n",
              "    <g>\n",
              "        <path d=\"M19 3H5c-1.1 0-2 .9-2 2v14c0 1.1.9 2 2 2h14c1.1 0 2-.9 2-2V5c0-1.1-.9-2-2-2zM9 17H7v-7h2v7zm4 0h-2V7h2v10zm4 0h-2v-4h2v4z\"/>\n",
              "    </g>\n",
              "</svg>\n",
              "  </button>\n",
              "\n",
              "<style>\n",
              "  .colab-df-quickchart {\n",
              "      --bg-color: #E8F0FE;\n",
              "      --fill-color: #1967D2;\n",
              "      --hover-bg-color: #E2EBFA;\n",
              "      --hover-fill-color: #174EA6;\n",
              "      --disabled-fill-color: #AAA;\n",
              "      --disabled-bg-color: #DDD;\n",
              "  }\n",
              "\n",
              "  [theme=dark] .colab-df-quickchart {\n",
              "      --bg-color: #3B4455;\n",
              "      --fill-color: #D2E3FC;\n",
              "      --hover-bg-color: #434B5C;\n",
              "      --hover-fill-color: #FFFFFF;\n",
              "      --disabled-bg-color: #3B4455;\n",
              "      --disabled-fill-color: #666;\n",
              "  }\n",
              "\n",
              "  .colab-df-quickchart {\n",
              "    background-color: var(--bg-color);\n",
              "    border: none;\n",
              "    border-radius: 50%;\n",
              "    cursor: pointer;\n",
              "    display: none;\n",
              "    fill: var(--fill-color);\n",
              "    height: 32px;\n",
              "    padding: 0;\n",
              "    width: 32px;\n",
              "  }\n",
              "\n",
              "  .colab-df-quickchart:hover {\n",
              "    background-color: var(--hover-bg-color);\n",
              "    box-shadow: 0 1px 2px rgba(60, 64, 67, 0.3), 0 1px 3px 1px rgba(60, 64, 67, 0.15);\n",
              "    fill: var(--button-hover-fill-color);\n",
              "  }\n",
              "\n",
              "  .colab-df-quickchart-complete:disabled,\n",
              "  .colab-df-quickchart-complete:disabled:hover {\n",
              "    background-color: var(--disabled-bg-color);\n",
              "    fill: var(--disabled-fill-color);\n",
              "    box-shadow: none;\n",
              "  }\n",
              "\n",
              "  .colab-df-spinner {\n",
              "    border: 2px solid var(--fill-color);\n",
              "    border-color: transparent;\n",
              "    border-bottom-color: var(--fill-color);\n",
              "    animation:\n",
              "      spin 1s steps(1) infinite;\n",
              "  }\n",
              "\n",
              "  @keyframes spin {\n",
              "    0% {\n",
              "      border-color: transparent;\n",
              "      border-bottom-color: var(--fill-color);\n",
              "      border-left-color: var(--fill-color);\n",
              "    }\n",
              "    20% {\n",
              "      border-color: transparent;\n",
              "      border-left-color: var(--fill-color);\n",
              "      border-top-color: var(--fill-color);\n",
              "    }\n",
              "    30% {\n",
              "      border-color: transparent;\n",
              "      border-left-color: var(--fill-color);\n",
              "      border-top-color: var(--fill-color);\n",
              "      border-right-color: var(--fill-color);\n",
              "    }\n",
              "    40% {\n",
              "      border-color: transparent;\n",
              "      border-right-color: var(--fill-color);\n",
              "      border-top-color: var(--fill-color);\n",
              "    }\n",
              "    60% {\n",
              "      border-color: transparent;\n",
              "      border-right-color: var(--fill-color);\n",
              "    }\n",
              "    80% {\n",
              "      border-color: transparent;\n",
              "      border-right-color: var(--fill-color);\n",
              "      border-bottom-color: var(--fill-color);\n",
              "    }\n",
              "    90% {\n",
              "      border-color: transparent;\n",
              "      border-bottom-color: var(--fill-color);\n",
              "    }\n",
              "  }\n",
              "</style>\n",
              "\n",
              "  <script>\n",
              "    async function quickchart(key) {\n",
              "      const quickchartButtonEl =\n",
              "        document.querySelector('#' + key + ' button');\n",
              "      quickchartButtonEl.disabled = true;  // To prevent multiple clicks.\n",
              "      quickchartButtonEl.classList.add('colab-df-spinner');\n",
              "      try {\n",
              "        const charts = await google.colab.kernel.invokeFunction(\n",
              "            'suggestCharts', [key], {});\n",
              "      } catch (error) {\n",
              "        console.error('Error during call to suggestCharts:', error);\n",
              "      }\n",
              "      quickchartButtonEl.classList.remove('colab-df-spinner');\n",
              "      quickchartButtonEl.classList.add('colab-df-quickchart-complete');\n",
              "    }\n",
              "    (() => {\n",
              "      let quickchartButtonEl =\n",
              "        document.querySelector('#df-cfdd054e-8fbc-4c5c-ba2e-d134acdc718d button');\n",
              "      quickchartButtonEl.style.display =\n",
              "        google.colab.kernel.accessAllowed ? 'block' : 'none';\n",
              "    })();\n",
              "  </script>\n",
              "</div>\n",
              "\n",
              "    </div>\n",
              "  </div>\n"
            ],
            "text/plain": [
              "        Entity  Year  Female suicide rate (WHO (2005))  \\\n",
              "0  Afghanistan  2004                          8.630156   \n",
              "1      Albania  2004                          6.060875   \n",
              "2      Algeria  2004                          4.600765   \n",
              "3      Andorra  2004                          2.902797   \n",
              "4       Angola  2004                          8.143820   \n",
              "5    Argentina  1966                          3.773803   \n",
              "6    Argentina  1967                          4.522207   \n",
              "7    Argentina  1968                          4.950262   \n",
              "8    Argentina  1969                          4.472790   \n",
              "9    Argentina  1970                          5.086274   \n",
              "\n",
              "   Male suicide rate (WHO (2005))  \n",
              "0                        4.884804  \n",
              "1                        9.330574  \n",
              "2                        5.145025  \n",
              "3                        8.048293  \n",
              "4                       21.472977  \n",
              "5                       12.203960  \n",
              "6                       15.552110  \n",
              "7                       16.782040  \n",
              "8                       16.776400  \n",
              "9                       16.044990  "
            ]
          },
          "execution_count": 19,
          "metadata": {},
          "output_type": "execute_result"
        }
      ],
      "source": [
        "# preview first 10 rows\n",
        "suicide_rates.head(10)"
      ]
    },
    {
      "cell_type": "code",
      "execution_count": null,
      "metadata": {
        "colab": {
          "base_uri": "https://localhost:8080/",
          "height": 363
        },
        "id": "5qKQVHNJvUoK",
        "outputId": "62fc60a6-9ea6-4a6a-bc41-2e076046cfe7"
      },
      "outputs": [
        {
          "data": {
            "application/vnd.google.colaboratory.intrinsic+json": {
              "summary": "{\n  \"name\": \"suicide_rates\",\n  \"rows\": 10,\n  \"fields\": [\n    {\n      \"column\": \"Entity\",\n      \"properties\": {\n        \"dtype\": \"category\",\n        \"num_unique_values\": 3,\n        \"samples\": [\n          \"Yugoslavia\",\n          \"Zambia\",\n          \"Zimbabwe\"\n        ],\n        \"semantic_type\": \"\",\n        \"description\": \"\"\n      }\n    },\n    {\n      \"column\": \"Year\",\n      \"properties\": {\n        \"dtype\": \"number\",\n        \"std\": 7,\n        \"min\": 1983,\n        \"max\": 2004,\n        \"num_unique_values\": 9,\n        \"samples\": [\n          1990,\n          1984,\n          1988\n        ],\n        \"semantic_type\": \"\",\n        \"description\": \"\"\n      }\n    },\n    {\n      \"column\": \"Female suicide rate (WHO (2005))\",\n      \"properties\": {\n        \"dtype\": \"number\",\n        \"std\": 0.5017646252168565,\n        \"min\": 7.793037,\n        \"max\": 9.376058578,\n        \"num_unique_values\": 10,\n        \"samples\": [\n          7.959890842,\n          8.548234,\n          8.753218\n        ],\n        \"semantic_type\": \"\",\n        \"description\": \"\"\n      }\n    },\n    {\n      \"column\": \"Male suicide rate (WHO (2005))\",\n      \"properties\": {\n        \"dtype\": \"number\",\n        \"std\": 2.1852783118810675,\n        \"min\": 16.53609085,\n        \"max\": 23.3355,\n        \"num_unique_values\": 10,\n        \"samples\": [\n          16.53609085,\n          23.24142,\n          22.12781\n        ],\n        \"semantic_type\": \"\",\n        \"description\": \"\"\n      }\n    }\n  ]\n}",
              "type": "dataframe"
            },
            "text/html": [
              "\n",
              "  <div id=\"df-bb3301cd-19e0-4423-a66a-1c2bf50acb72\" class=\"colab-df-container\">\n",
              "    <div>\n",
              "<style scoped>\n",
              "    .dataframe tbody tr th:only-of-type {\n",
              "        vertical-align: middle;\n",
              "    }\n",
              "\n",
              "    .dataframe tbody tr th {\n",
              "        vertical-align: top;\n",
              "    }\n",
              "\n",
              "    .dataframe thead th {\n",
              "        text-align: right;\n",
              "    }\n",
              "</style>\n",
              "<table border=\"1\" class=\"dataframe\">\n",
              "  <thead>\n",
              "    <tr style=\"text-align: right;\">\n",
              "      <th></th>\n",
              "      <th>Entity</th>\n",
              "      <th>Year</th>\n",
              "      <th>Female suicide rate (WHO (2005))</th>\n",
              "      <th>Male suicide rate (WHO (2005))</th>\n",
              "    </tr>\n",
              "  </thead>\n",
              "  <tbody>\n",
              "    <tr>\n",
              "      <th>2492</th>\n",
              "      <td>Yugoslavia</td>\n",
              "      <td>1983</td>\n",
              "      <td>8.625981</td>\n",
              "      <td>22.675980</td>\n",
              "    </tr>\n",
              "    <tr>\n",
              "      <th>2493</th>\n",
              "      <td>Yugoslavia</td>\n",
              "      <td>1984</td>\n",
              "      <td>8.548234</td>\n",
              "      <td>23.241420</td>\n",
              "    </tr>\n",
              "    <tr>\n",
              "      <th>2494</th>\n",
              "      <td>Yugoslavia</td>\n",
              "      <td>1985</td>\n",
              "      <td>8.234728</td>\n",
              "      <td>22.533320</td>\n",
              "    </tr>\n",
              "    <tr>\n",
              "      <th>2495</th>\n",
              "      <td>Yugoslavia</td>\n",
              "      <td>1986</td>\n",
              "      <td>8.317180</td>\n",
              "      <td>22.323800</td>\n",
              "    </tr>\n",
              "    <tr>\n",
              "      <th>2496</th>\n",
              "      <td>Yugoslavia</td>\n",
              "      <td>1987</td>\n",
              "      <td>9.230215</td>\n",
              "      <td>23.335500</td>\n",
              "    </tr>\n",
              "    <tr>\n",
              "      <th>2497</th>\n",
              "      <td>Yugoslavia</td>\n",
              "      <td>1988</td>\n",
              "      <td>8.753218</td>\n",
              "      <td>22.127810</td>\n",
              "    </tr>\n",
              "    <tr>\n",
              "      <th>2498</th>\n",
              "      <td>Yugoslavia</td>\n",
              "      <td>1989</td>\n",
              "      <td>8.518538</td>\n",
              "      <td>22.416100</td>\n",
              "    </tr>\n",
              "    <tr>\n",
              "      <th>2499</th>\n",
              "      <td>Yugoslavia</td>\n",
              "      <td>1990</td>\n",
              "      <td>7.793037</td>\n",
              "      <td>20.807000</td>\n",
              "    </tr>\n",
              "    <tr>\n",
              "      <th>2500</th>\n",
              "      <td>Zambia</td>\n",
              "      <td>2004</td>\n",
              "      <td>7.959891</td>\n",
              "      <td>16.536091</td>\n",
              "    </tr>\n",
              "    <tr>\n",
              "      <th>2501</th>\n",
              "      <td>Zimbabwe</td>\n",
              "      <td>2004</td>\n",
              "      <td>9.376059</td>\n",
              "      <td>18.836018</td>\n",
              "    </tr>\n",
              "  </tbody>\n",
              "</table>\n",
              "</div>\n",
              "    <div class=\"colab-df-buttons\">\n",
              "\n",
              "  <div class=\"colab-df-container\">\n",
              "    <button class=\"colab-df-convert\" onclick=\"convertToInteractive('df-bb3301cd-19e0-4423-a66a-1c2bf50acb72')\"\n",
              "            title=\"Convert this dataframe to an interactive table.\"\n",
              "            style=\"display:none;\">\n",
              "\n",
              "  <svg xmlns=\"http://www.w3.org/2000/svg\" height=\"24px\" viewBox=\"0 -960 960 960\">\n",
              "    <path d=\"M120-120v-720h720v720H120Zm60-500h600v-160H180v160Zm220 220h160v-160H400v160Zm0 220h160v-160H400v160ZM180-400h160v-160H180v160Zm440 0h160v-160H620v160ZM180-180h160v-160H180v160Zm440 0h160v-160H620v160Z\"/>\n",
              "  </svg>\n",
              "    </button>\n",
              "\n",
              "  <style>\n",
              "    .colab-df-container {\n",
              "      display:flex;\n",
              "      gap: 12px;\n",
              "    }\n",
              "\n",
              "    .colab-df-convert {\n",
              "      background-color: #E8F0FE;\n",
              "      border: none;\n",
              "      border-radius: 50%;\n",
              "      cursor: pointer;\n",
              "      display: none;\n",
              "      fill: #1967D2;\n",
              "      height: 32px;\n",
              "      padding: 0 0 0 0;\n",
              "      width: 32px;\n",
              "    }\n",
              "\n",
              "    .colab-df-convert:hover {\n",
              "      background-color: #E2EBFA;\n",
              "      box-shadow: 0px 1px 2px rgba(60, 64, 67, 0.3), 0px 1px 3px 1px rgba(60, 64, 67, 0.15);\n",
              "      fill: #174EA6;\n",
              "    }\n",
              "\n",
              "    .colab-df-buttons div {\n",
              "      margin-bottom: 4px;\n",
              "    }\n",
              "\n",
              "    [theme=dark] .colab-df-convert {\n",
              "      background-color: #3B4455;\n",
              "      fill: #D2E3FC;\n",
              "    }\n",
              "\n",
              "    [theme=dark] .colab-df-convert:hover {\n",
              "      background-color: #434B5C;\n",
              "      box-shadow: 0px 1px 3px 1px rgba(0, 0, 0, 0.15);\n",
              "      filter: drop-shadow(0px 1px 2px rgba(0, 0, 0, 0.3));\n",
              "      fill: #FFFFFF;\n",
              "    }\n",
              "  </style>\n",
              "\n",
              "    <script>\n",
              "      const buttonEl =\n",
              "        document.querySelector('#df-bb3301cd-19e0-4423-a66a-1c2bf50acb72 button.colab-df-convert');\n",
              "      buttonEl.style.display =\n",
              "        google.colab.kernel.accessAllowed ? 'block' : 'none';\n",
              "\n",
              "      async function convertToInteractive(key) {\n",
              "        const element = document.querySelector('#df-bb3301cd-19e0-4423-a66a-1c2bf50acb72');\n",
              "        const dataTable =\n",
              "          await google.colab.kernel.invokeFunction('convertToInteractive',\n",
              "                                                    [key], {});\n",
              "        if (!dataTable) return;\n",
              "\n",
              "        const docLinkHtml = 'Like what you see? Visit the ' +\n",
              "          '<a target=\"_blank\" href=https://colab.research.google.com/notebooks/data_table.ipynb>data table notebook</a>'\n",
              "          + ' to learn more about interactive tables.';\n",
              "        element.innerHTML = '';\n",
              "        dataTable['output_type'] = 'display_data';\n",
              "        await google.colab.output.renderOutput(dataTable, element);\n",
              "        const docLink = document.createElement('div');\n",
              "        docLink.innerHTML = docLinkHtml;\n",
              "        element.appendChild(docLink);\n",
              "      }\n",
              "    </script>\n",
              "  </div>\n",
              "\n",
              "\n",
              "<div id=\"df-bf448fd5-acb5-4b7e-b727-e05e4f3e08d4\">\n",
              "  <button class=\"colab-df-quickchart\" onclick=\"quickchart('df-bf448fd5-acb5-4b7e-b727-e05e4f3e08d4')\"\n",
              "            title=\"Suggest charts\"\n",
              "            style=\"display:none;\">\n",
              "\n",
              "<svg xmlns=\"http://www.w3.org/2000/svg\" height=\"24px\"viewBox=\"0 0 24 24\"\n",
              "     width=\"24px\">\n",
              "    <g>\n",
              "        <path d=\"M19 3H5c-1.1 0-2 .9-2 2v14c0 1.1.9 2 2 2h14c1.1 0 2-.9 2-2V5c0-1.1-.9-2-2-2zM9 17H7v-7h2v7zm4 0h-2V7h2v10zm4 0h-2v-4h2v4z\"/>\n",
              "    </g>\n",
              "</svg>\n",
              "  </button>\n",
              "\n",
              "<style>\n",
              "  .colab-df-quickchart {\n",
              "      --bg-color: #E8F0FE;\n",
              "      --fill-color: #1967D2;\n",
              "      --hover-bg-color: #E2EBFA;\n",
              "      --hover-fill-color: #174EA6;\n",
              "      --disabled-fill-color: #AAA;\n",
              "      --disabled-bg-color: #DDD;\n",
              "  }\n",
              "\n",
              "  [theme=dark] .colab-df-quickchart {\n",
              "      --bg-color: #3B4455;\n",
              "      --fill-color: #D2E3FC;\n",
              "      --hover-bg-color: #434B5C;\n",
              "      --hover-fill-color: #FFFFFF;\n",
              "      --disabled-bg-color: #3B4455;\n",
              "      --disabled-fill-color: #666;\n",
              "  }\n",
              "\n",
              "  .colab-df-quickchart {\n",
              "    background-color: var(--bg-color);\n",
              "    border: none;\n",
              "    border-radius: 50%;\n",
              "    cursor: pointer;\n",
              "    display: none;\n",
              "    fill: var(--fill-color);\n",
              "    height: 32px;\n",
              "    padding: 0;\n",
              "    width: 32px;\n",
              "  }\n",
              "\n",
              "  .colab-df-quickchart:hover {\n",
              "    background-color: var(--hover-bg-color);\n",
              "    box-shadow: 0 1px 2px rgba(60, 64, 67, 0.3), 0 1px 3px 1px rgba(60, 64, 67, 0.15);\n",
              "    fill: var(--button-hover-fill-color);\n",
              "  }\n",
              "\n",
              "  .colab-df-quickchart-complete:disabled,\n",
              "  .colab-df-quickchart-complete:disabled:hover {\n",
              "    background-color: var(--disabled-bg-color);\n",
              "    fill: var(--disabled-fill-color);\n",
              "    box-shadow: none;\n",
              "  }\n",
              "\n",
              "  .colab-df-spinner {\n",
              "    border: 2px solid var(--fill-color);\n",
              "    border-color: transparent;\n",
              "    border-bottom-color: var(--fill-color);\n",
              "    animation:\n",
              "      spin 1s steps(1) infinite;\n",
              "  }\n",
              "\n",
              "  @keyframes spin {\n",
              "    0% {\n",
              "      border-color: transparent;\n",
              "      border-bottom-color: var(--fill-color);\n",
              "      border-left-color: var(--fill-color);\n",
              "    }\n",
              "    20% {\n",
              "      border-color: transparent;\n",
              "      border-left-color: var(--fill-color);\n",
              "      border-top-color: var(--fill-color);\n",
              "    }\n",
              "    30% {\n",
              "      border-color: transparent;\n",
              "      border-left-color: var(--fill-color);\n",
              "      border-top-color: var(--fill-color);\n",
              "      border-right-color: var(--fill-color);\n",
              "    }\n",
              "    40% {\n",
              "      border-color: transparent;\n",
              "      border-right-color: var(--fill-color);\n",
              "      border-top-color: var(--fill-color);\n",
              "    }\n",
              "    60% {\n",
              "      border-color: transparent;\n",
              "      border-right-color: var(--fill-color);\n",
              "    }\n",
              "    80% {\n",
              "      border-color: transparent;\n",
              "      border-right-color: var(--fill-color);\n",
              "      border-bottom-color: var(--fill-color);\n",
              "    }\n",
              "    90% {\n",
              "      border-color: transparent;\n",
              "      border-bottom-color: var(--fill-color);\n",
              "    }\n",
              "  }\n",
              "</style>\n",
              "\n",
              "  <script>\n",
              "    async function quickchart(key) {\n",
              "      const quickchartButtonEl =\n",
              "        document.querySelector('#' + key + ' button');\n",
              "      quickchartButtonEl.disabled = true;  // To prevent multiple clicks.\n",
              "      quickchartButtonEl.classList.add('colab-df-spinner');\n",
              "      try {\n",
              "        const charts = await google.colab.kernel.invokeFunction(\n",
              "            'suggestCharts', [key], {});\n",
              "      } catch (error) {\n",
              "        console.error('Error during call to suggestCharts:', error);\n",
              "      }\n",
              "      quickchartButtonEl.classList.remove('colab-df-spinner');\n",
              "      quickchartButtonEl.classList.add('colab-df-quickchart-complete');\n",
              "    }\n",
              "    (() => {\n",
              "      let quickchartButtonEl =\n",
              "        document.querySelector('#df-bf448fd5-acb5-4b7e-b727-e05e4f3e08d4 button');\n",
              "      quickchartButtonEl.style.display =\n",
              "        google.colab.kernel.accessAllowed ? 'block' : 'none';\n",
              "    })();\n",
              "  </script>\n",
              "</div>\n",
              "\n",
              "    </div>\n",
              "  </div>\n"
            ],
            "text/plain": [
              "          Entity  Year  Female suicide rate (WHO (2005))  \\\n",
              "2492  Yugoslavia  1983                          8.625981   \n",
              "2493  Yugoslavia  1984                          8.548234   \n",
              "2494  Yugoslavia  1985                          8.234728   \n",
              "2495  Yugoslavia  1986                          8.317180   \n",
              "2496  Yugoslavia  1987                          9.230215   \n",
              "2497  Yugoslavia  1988                          8.753218   \n",
              "2498  Yugoslavia  1989                          8.518538   \n",
              "2499  Yugoslavia  1990                          7.793037   \n",
              "2500      Zambia  2004                          7.959891   \n",
              "2501    Zimbabwe  2004                          9.376059   \n",
              "\n",
              "      Male suicide rate (WHO (2005))  \n",
              "2492                       22.675980  \n",
              "2493                       23.241420  \n",
              "2494                       22.533320  \n",
              "2495                       22.323800  \n",
              "2496                       23.335500  \n",
              "2497                       22.127810  \n",
              "2498                       22.416100  \n",
              "2499                       20.807000  \n",
              "2500                       16.536091  \n",
              "2501                       18.836018  "
            ]
          },
          "execution_count": 20,
          "metadata": {},
          "output_type": "execute_result"
        }
      ],
      "source": [
        "# preview last 10 rows\n",
        "suicide_rates.tail(10)"
      ]
    },
    {
      "cell_type": "code",
      "execution_count": null,
      "metadata": {
        "colab": {
          "base_uri": "https://localhost:8080/"
        },
        "id": "P8XrBcvIm-Ow",
        "outputId": "e8abf6f1-e5cf-4789-f5cd-a9b4160e4c61"
      },
      "outputs": [
        {
          "data": {
            "text/plain": [
              "Index(['Entity', 'Year', 'Female suicide rate (WHO (2005))',\n",
              "       'Male suicide rate (WHO (2005))'],\n",
              "      dtype='object')"
            ]
          },
          "execution_count": 21,
          "metadata": {},
          "output_type": "execute_result"
        }
      ],
      "source": [
        "# check column features\n",
        "suicide_rates.columns"
      ]
    },
    {
      "cell_type": "code",
      "execution_count": null,
      "metadata": {
        "colab": {
          "base_uri": "https://localhost:8080/"
        },
        "id": "cM0qnWVSm98I",
        "outputId": "11343704-4057-46b9-c865-78313b1df88c"
      },
      "outputs": [
        {
          "name": "stdout",
          "output_type": "stream",
          "text": [
            "<class 'pandas.core.frame.DataFrame'>\n",
            "Int64Index: 2502 entries, 0 to 2501\n",
            "Data columns (total 4 columns):\n",
            " #   Column                            Non-Null Count  Dtype  \n",
            "---  ------                            --------------  -----  \n",
            " 0   Entity                            2502 non-null   object \n",
            " 1   Year                              2502 non-null   int64  \n",
            " 2   Female suicide rate (WHO (2005))  2502 non-null   float64\n",
            " 3   Male suicide rate (WHO (2005))    2502 non-null   float64\n",
            "dtypes: float64(2), int64(1), object(1)\n",
            "memory usage: 97.7+ KB\n"
          ]
        }
      ],
      "source": [
        "# concise summary of the dataset\n",
        "suicide_rates.info()"
      ]
    },
    {
      "cell_type": "code",
      "execution_count": null,
      "metadata": {
        "colab": {
          "base_uri": "https://localhost:8080/"
        },
        "id": "F_HXWaSJntOd",
        "outputId": "86c84e5c-fcde-4d3d-8022-538622c457f8"
      },
      "outputs": [
        {
          "data": {
            "text/plain": [
              "(2502, 4)"
            ]
          },
          "execution_count": 23,
          "metadata": {},
          "output_type": "execute_result"
        }
      ],
      "source": [
        "# shape of the dataset\n",
        "suicide_rates.shape"
      ]
    },
    {
      "cell_type": "code",
      "execution_count": null,
      "metadata": {
        "colab": {
          "base_uri": "https://localhost:8080/"
        },
        "id": "qEV6-GLPvhRg",
        "outputId": "fc3e99e5-e45f-4272-d405-f3b8024e1824"
      },
      "outputs": [
        {
          "data": {
            "text/plain": [
              "Entity                              0\n",
              "Year                                0\n",
              "Female suicide rate (WHO (2005))    0\n",
              "Male suicide rate (WHO (2005))      0\n",
              "dtype: int64"
            ]
          },
          "execution_count": 24,
          "metadata": {},
          "output_type": "execute_result"
        }
      ],
      "source": [
        "# check for missing values\n",
        "suicide_rates.isna().sum()"
      ]
    },
    {
      "cell_type": "markdown",
      "metadata": {
        "id": "Pw2HZwfcn6By"
      },
      "source": [
        "Observations:\n",
        "* Following the merging of the datasets, the consolidated dataset now comprises 2502 rows and 4 columns, incorporating information on both male and female suicide rates. It is also free from any missing values."
      ]
    },
    {
      "cell_type": "markdown",
      "metadata": {
        "id": "J1BQindIo6fO"
      },
      "source": [
        "## Exploratory data analysis"
      ]
    },
    {
      "cell_type": "markdown",
      "metadata": {
        "id": "SvANsn_Jo-ha"
      },
      "source": [
        "### Univariate analysis"
      ]
    },
    {
      "cell_type": "markdown",
      "metadata": {
        "id": "My6vjL4vpCFu"
      },
      "source": [
        "This section analyzes the statistical summaries of the merged dataset. This involves examining key measures such as the mean, standard deviation, minimum, maximum, and the percetiles of the male and female suicide rates."
      ]
    },
    {
      "cell_type": "code",
      "execution_count": null,
      "metadata": {
        "colab": {
          "base_uri": "https://localhost:8080/",
          "height": 301
        },
        "id": "X3xWfuJYpqmR",
        "outputId": "cdaa80ed-a830-4899-9049-a700933c7cd5"
      },
      "outputs": [
        {
          "data": {
            "application/vnd.google.colaboratory.intrinsic+json": {
              "summary": "{\n  \"name\": \"suicide_rates\",\n  \"rows\": 8,\n  \"fields\": [\n    {\n      \"column\": \"Female suicide rate (WHO (2005))\",\n      \"properties\": {\n        \"dtype\": \"number\",\n        \"std\": 881.8789502435826,\n        \"min\": 0.0244919,\n        \"max\": 2502.0,\n        \"num_unique_values\": 8,\n        \"samples\": [\n          6.172070088422062,\n          5.431743319,\n          2502.0\n        ],\n        \"semantic_type\": \"\",\n        \"description\": \"\"\n      }\n    },\n    {\n      \"column\": \"Male suicide rate (WHO (2005))\",\n      \"properties\": {\n        \"dtype\": \"number\",\n        \"std\": 876.6131142118109,\n        \"min\": 0.0607529,\n        \"max\": 2502.0,\n        \"num_unique_values\": 8,\n        \"samples\": [\n          19.198149754079537,\n          16.91999934,\n          2502.0\n        ],\n        \"semantic_type\": \"\",\n        \"description\": \"\"\n      }\n    }\n  ]\n}",
              "type": "dataframe"
            },
            "text/html": [
              "\n",
              "  <div id=\"df-15ada8d8-38bf-4318-96ba-f2d3242f9e96\" class=\"colab-df-container\">\n",
              "    <div>\n",
              "<style scoped>\n",
              "    .dataframe tbody tr th:only-of-type {\n",
              "        vertical-align: middle;\n",
              "    }\n",
              "\n",
              "    .dataframe tbody tr th {\n",
              "        vertical-align: top;\n",
              "    }\n",
              "\n",
              "    .dataframe thead th {\n",
              "        text-align: right;\n",
              "    }\n",
              "</style>\n",
              "<table border=\"1\" class=\"dataframe\">\n",
              "  <thead>\n",
              "    <tr style=\"text-align: right;\">\n",
              "      <th></th>\n",
              "      <th>Female suicide rate (WHO (2005))</th>\n",
              "      <th>Male suicide rate (WHO (2005))</th>\n",
              "    </tr>\n",
              "  </thead>\n",
              "  <tbody>\n",
              "    <tr>\n",
              "      <th>count</th>\n",
              "      <td>2502.000000</td>\n",
              "      <td>2502.000000</td>\n",
              "    </tr>\n",
              "    <tr>\n",
              "      <th>mean</th>\n",
              "      <td>6.172070</td>\n",
              "      <td>19.198150</td>\n",
              "    </tr>\n",
              "    <tr>\n",
              "      <th>std</th>\n",
              "      <td>4.107720</td>\n",
              "      <td>13.070350</td>\n",
              "    </tr>\n",
              "    <tr>\n",
              "      <th>min</th>\n",
              "      <td>0.024492</td>\n",
              "      <td>0.060753</td>\n",
              "    </tr>\n",
              "    <tr>\n",
              "      <th>25%</th>\n",
              "      <td>3.034768</td>\n",
              "      <td>9.966009</td>\n",
              "    </tr>\n",
              "    <tr>\n",
              "      <th>50%</th>\n",
              "      <td>5.431743</td>\n",
              "      <td>16.919999</td>\n",
              "    </tr>\n",
              "    <tr>\n",
              "      <th>75%</th>\n",
              "      <td>8.703127</td>\n",
              "      <td>24.991977</td>\n",
              "    </tr>\n",
              "    <tr>\n",
              "      <th>max</th>\n",
              "      <td>26.972969</td>\n",
              "      <td>80.428940</td>\n",
              "    </tr>\n",
              "  </tbody>\n",
              "</table>\n",
              "</div>\n",
              "    <div class=\"colab-df-buttons\">\n",
              "\n",
              "  <div class=\"colab-df-container\">\n",
              "    <button class=\"colab-df-convert\" onclick=\"convertToInteractive('df-15ada8d8-38bf-4318-96ba-f2d3242f9e96')\"\n",
              "            title=\"Convert this dataframe to an interactive table.\"\n",
              "            style=\"display:none;\">\n",
              "\n",
              "  <svg xmlns=\"http://www.w3.org/2000/svg\" height=\"24px\" viewBox=\"0 -960 960 960\">\n",
              "    <path d=\"M120-120v-720h720v720H120Zm60-500h600v-160H180v160Zm220 220h160v-160H400v160Zm0 220h160v-160H400v160ZM180-400h160v-160H180v160Zm440 0h160v-160H620v160ZM180-180h160v-160H180v160Zm440 0h160v-160H620v160Z\"/>\n",
              "  </svg>\n",
              "    </button>\n",
              "\n",
              "  <style>\n",
              "    .colab-df-container {\n",
              "      display:flex;\n",
              "      gap: 12px;\n",
              "    }\n",
              "\n",
              "    .colab-df-convert {\n",
              "      background-color: #E8F0FE;\n",
              "      border: none;\n",
              "      border-radius: 50%;\n",
              "      cursor: pointer;\n",
              "      display: none;\n",
              "      fill: #1967D2;\n",
              "      height: 32px;\n",
              "      padding: 0 0 0 0;\n",
              "      width: 32px;\n",
              "    }\n",
              "\n",
              "    .colab-df-convert:hover {\n",
              "      background-color: #E2EBFA;\n",
              "      box-shadow: 0px 1px 2px rgba(60, 64, 67, 0.3), 0px 1px 3px 1px rgba(60, 64, 67, 0.15);\n",
              "      fill: #174EA6;\n",
              "    }\n",
              "\n",
              "    .colab-df-buttons div {\n",
              "      margin-bottom: 4px;\n",
              "    }\n",
              "\n",
              "    [theme=dark] .colab-df-convert {\n",
              "      background-color: #3B4455;\n",
              "      fill: #D2E3FC;\n",
              "    }\n",
              "\n",
              "    [theme=dark] .colab-df-convert:hover {\n",
              "      background-color: #434B5C;\n",
              "      box-shadow: 0px 1px 3px 1px rgba(0, 0, 0, 0.15);\n",
              "      filter: drop-shadow(0px 1px 2px rgba(0, 0, 0, 0.3));\n",
              "      fill: #FFFFFF;\n",
              "    }\n",
              "  </style>\n",
              "\n",
              "    <script>\n",
              "      const buttonEl =\n",
              "        document.querySelector('#df-15ada8d8-38bf-4318-96ba-f2d3242f9e96 button.colab-df-convert');\n",
              "      buttonEl.style.display =\n",
              "        google.colab.kernel.accessAllowed ? 'block' : 'none';\n",
              "\n",
              "      async function convertToInteractive(key) {\n",
              "        const element = document.querySelector('#df-15ada8d8-38bf-4318-96ba-f2d3242f9e96');\n",
              "        const dataTable =\n",
              "          await google.colab.kernel.invokeFunction('convertToInteractive',\n",
              "                                                    [key], {});\n",
              "        if (!dataTable) return;\n",
              "\n",
              "        const docLinkHtml = 'Like what you see? Visit the ' +\n",
              "          '<a target=\"_blank\" href=https://colab.research.google.com/notebooks/data_table.ipynb>data table notebook</a>'\n",
              "          + ' to learn more about interactive tables.';\n",
              "        element.innerHTML = '';\n",
              "        dataTable['output_type'] = 'display_data';\n",
              "        await google.colab.output.renderOutput(dataTable, element);\n",
              "        const docLink = document.createElement('div');\n",
              "        docLink.innerHTML = docLinkHtml;\n",
              "        element.appendChild(docLink);\n",
              "      }\n",
              "    </script>\n",
              "  </div>\n",
              "\n",
              "\n",
              "<div id=\"df-aa7a6c7d-4077-4761-86e5-9cb5ef7ae83c\">\n",
              "  <button class=\"colab-df-quickchart\" onclick=\"quickchart('df-aa7a6c7d-4077-4761-86e5-9cb5ef7ae83c')\"\n",
              "            title=\"Suggest charts\"\n",
              "            style=\"display:none;\">\n",
              "\n",
              "<svg xmlns=\"http://www.w3.org/2000/svg\" height=\"24px\"viewBox=\"0 0 24 24\"\n",
              "     width=\"24px\">\n",
              "    <g>\n",
              "        <path d=\"M19 3H5c-1.1 0-2 .9-2 2v14c0 1.1.9 2 2 2h14c1.1 0 2-.9 2-2V5c0-1.1-.9-2-2-2zM9 17H7v-7h2v7zm4 0h-2V7h2v10zm4 0h-2v-4h2v4z\"/>\n",
              "    </g>\n",
              "</svg>\n",
              "  </button>\n",
              "\n",
              "<style>\n",
              "  .colab-df-quickchart {\n",
              "      --bg-color: #E8F0FE;\n",
              "      --fill-color: #1967D2;\n",
              "      --hover-bg-color: #E2EBFA;\n",
              "      --hover-fill-color: #174EA6;\n",
              "      --disabled-fill-color: #AAA;\n",
              "      --disabled-bg-color: #DDD;\n",
              "  }\n",
              "\n",
              "  [theme=dark] .colab-df-quickchart {\n",
              "      --bg-color: #3B4455;\n",
              "      --fill-color: #D2E3FC;\n",
              "      --hover-bg-color: #434B5C;\n",
              "      --hover-fill-color: #FFFFFF;\n",
              "      --disabled-bg-color: #3B4455;\n",
              "      --disabled-fill-color: #666;\n",
              "  }\n",
              "\n",
              "  .colab-df-quickchart {\n",
              "    background-color: var(--bg-color);\n",
              "    border: none;\n",
              "    border-radius: 50%;\n",
              "    cursor: pointer;\n",
              "    display: none;\n",
              "    fill: var(--fill-color);\n",
              "    height: 32px;\n",
              "    padding: 0;\n",
              "    width: 32px;\n",
              "  }\n",
              "\n",
              "  .colab-df-quickchart:hover {\n",
              "    background-color: var(--hover-bg-color);\n",
              "    box-shadow: 0 1px 2px rgba(60, 64, 67, 0.3), 0 1px 3px 1px rgba(60, 64, 67, 0.15);\n",
              "    fill: var(--button-hover-fill-color);\n",
              "  }\n",
              "\n",
              "  .colab-df-quickchart-complete:disabled,\n",
              "  .colab-df-quickchart-complete:disabled:hover {\n",
              "    background-color: var(--disabled-bg-color);\n",
              "    fill: var(--disabled-fill-color);\n",
              "    box-shadow: none;\n",
              "  }\n",
              "\n",
              "  .colab-df-spinner {\n",
              "    border: 2px solid var(--fill-color);\n",
              "    border-color: transparent;\n",
              "    border-bottom-color: var(--fill-color);\n",
              "    animation:\n",
              "      spin 1s steps(1) infinite;\n",
              "  }\n",
              "\n",
              "  @keyframes spin {\n",
              "    0% {\n",
              "      border-color: transparent;\n",
              "      border-bottom-color: var(--fill-color);\n",
              "      border-left-color: var(--fill-color);\n",
              "    }\n",
              "    20% {\n",
              "      border-color: transparent;\n",
              "      border-left-color: var(--fill-color);\n",
              "      border-top-color: var(--fill-color);\n",
              "    }\n",
              "    30% {\n",
              "      border-color: transparent;\n",
              "      border-left-color: var(--fill-color);\n",
              "      border-top-color: var(--fill-color);\n",
              "      border-right-color: var(--fill-color);\n",
              "    }\n",
              "    40% {\n",
              "      border-color: transparent;\n",
              "      border-right-color: var(--fill-color);\n",
              "      border-top-color: var(--fill-color);\n",
              "    }\n",
              "    60% {\n",
              "      border-color: transparent;\n",
              "      border-right-color: var(--fill-color);\n",
              "    }\n",
              "    80% {\n",
              "      border-color: transparent;\n",
              "      border-right-color: var(--fill-color);\n",
              "      border-bottom-color: var(--fill-color);\n",
              "    }\n",
              "    90% {\n",
              "      border-color: transparent;\n",
              "      border-bottom-color: var(--fill-color);\n",
              "    }\n",
              "  }\n",
              "</style>\n",
              "\n",
              "  <script>\n",
              "    async function quickchart(key) {\n",
              "      const quickchartButtonEl =\n",
              "        document.querySelector('#' + key + ' button');\n",
              "      quickchartButtonEl.disabled = true;  // To prevent multiple clicks.\n",
              "      quickchartButtonEl.classList.add('colab-df-spinner');\n",
              "      try {\n",
              "        const charts = await google.colab.kernel.invokeFunction(\n",
              "            'suggestCharts', [key], {});\n",
              "      } catch (error) {\n",
              "        console.error('Error during call to suggestCharts:', error);\n",
              "      }\n",
              "      quickchartButtonEl.classList.remove('colab-df-spinner');\n",
              "      quickchartButtonEl.classList.add('colab-df-quickchart-complete');\n",
              "    }\n",
              "    (() => {\n",
              "      let quickchartButtonEl =\n",
              "        document.querySelector('#df-aa7a6c7d-4077-4761-86e5-9cb5ef7ae83c button');\n",
              "      quickchartButtonEl.style.display =\n",
              "        google.colab.kernel.accessAllowed ? 'block' : 'none';\n",
              "    })();\n",
              "  </script>\n",
              "</div>\n",
              "\n",
              "    </div>\n",
              "  </div>\n"
            ],
            "text/plain": [
              "       Female suicide rate (WHO (2005))  Male suicide rate (WHO (2005))\n",
              "count                       2502.000000                     2502.000000\n",
              "mean                           6.172070                       19.198150\n",
              "std                            4.107720                       13.070350\n",
              "min                            0.024492                        0.060753\n",
              "25%                            3.034768                        9.966009\n",
              "50%                            5.431743                       16.919999\n",
              "75%                            8.703127                       24.991977\n",
              "max                           26.972969                       80.428940"
            ]
          },
          "execution_count": 25,
          "metadata": {},
          "output_type": "execute_result"
        }
      ],
      "source": [
        "# summary statistics of the dataset\n",
        "suicide_rates.drop('Year', axis=1).describe()"
      ]
    },
    {
      "cell_type": "markdown",
      "metadata": {
        "id": "r-Wu6c_ZrF-o"
      },
      "source": [
        "Observations:\n",
        "* The mean female suicide rate is approximately 6.17, while the mean male suicide rate is around 19.20, up to three times the female rate.\n",
        "* The standard deviation for female suicide rates is approximately 4.11, and for male suicide rates, it is about 13.07.\n",
        "* The lowest female suicide rate recorded is 0.024, and the lowest male suicide rate is 0.061.\n",
        "* 25% of female suicide rates are below 3.03, while 25% of male suicide rates are below 9.97.\n",
        "* The median female suicide rate is around 5.43, and the median male suicide rate is approximately 16.92.\n",
        "* 75% of female suicide rates are below 8.70, and 75% of male suicide rates are below 24.99.\n",
        "* The highest female suicide rate recorded is 26.97, and the highest male suicide rate is 80.43."
      ]
    },
    {
      "cell_type": "markdown",
      "metadata": {
        "id": "zKTBlNaSt5Q8"
      },
      "source": [
        "An observable trend from the findings above is that male suicide rates, on average, are approximately **three times higher** than female suicide rates. This significant difference highlights a gender disparity in suicide rates, with males exhibiting a notably higher rate of suicide compared to females. This trend is consistent with broader global patterns where male suicide rates tend to be higher than female rates across various regions and time periods.\n",
        "\n",
        "Several factors contribute to this gender disparity in suicide rates, including differences in mental health stigma, help-seeking behavior, and societal expectations related to masculinity and emotional expression. Research indicates that while women tend to have higher rates of depression diagnoses and more incidences of suicide attempts, male suicide methods are often more violent, making them more likely to be completed before anyone can intervene. Men have also been culturally conditioned to \"be strong\" and seek help for mental health less often."
      ]
    },
    {
      "cell_type": "markdown",
      "metadata": {
        "id": "vx_UTFIkyWDD"
      },
      "source": [
        "## Trends in female and male suicides from 1950 to 2005"
      ]
    },
    {
      "cell_type": "markdown",
      "metadata": {
        "id": "injh6KNKyd79"
      },
      "source": [
        "This section examines the trend in suicide rates across both genders between 1950 to 2005. Examining the trend helps in identifying patterns or fluctuations in suicide rates over time. This can reveal if there are any consistent upward or downward trends, seasonal variations, or periods of significant changes. It also provides insights into the factors that might be influencing these changes and provides a basis to evaluate the effectiveness of any interventions or policies that may have been implemented to reduce suicide rates over the years.\n",
        "By observing how suicide rates change over time in response to interventions, stakeholders can assess the impact of their efforts and make informed decisions on future strategies."
      ]
    },
    {
      "cell_type": "markdown",
      "metadata": {
        "id": "f6KB_dwTwPOu"
      },
      "source": [
        "### Trend in female suicide rates"
      ]
    },
    {
      "cell_type": "code",
      "execution_count": null,
      "metadata": {
        "colab": {
          "background_save": true,
          "base_uri": "https://localhost:8080/",
          "height": 607
        },
        "id": "zltQANrl9gDv",
        "outputId": "92105c8a-80fc-4469-f98c-2dd108397754"
      },
      "outputs": [
        {
          "data": {
            "image/png": "[encoded data removed]",
            "text/plain": [
              "<Figure size 800x600 with 1 Axes>"
            ]
          },
          "metadata": {},
          "output_type": "display_data"
        }
      ],
      "source": [
        "# Group data by year and calculate mean suicide rates for women\n",
        "female_suicide_rates_by_year = suicide_rates.groupby('Year')['Female suicide rate (WHO (2005))'].mean()\n",
        "\n",
        "# Plot both trend lines on the same graph\n",
        "plt.figure(figsize=(8, 6))\n",
        "plt.plot(female_suicide_rates_by_year.index, female_suicide_rates_by_year, color='blue', label='Female')\n",
        "plt.title('Trend in Female Suicide Rates')\n",
        "plt.xlabel('Year')\n",
        "plt.ylabel('Suicide Rate')\n",
        "plt.legend()\n",
        "\n",
        "# Set the y-axis to start from 0\n",
        "plt.ylim(0)\n",
        "\n",
        "plt.tight_layout()\n",
        "plt.show()"
      ]
    },
    {
      "cell_type": "markdown",
      "metadata": {
        "id": "dp6r9P5fzfPa"
      },
      "source": [
        "Observation:\n",
        "* Female suicide rates exhibited a steady increase from 1950 to the early 1970s, reaching a peak before experiencing a slight decline around 1972. Subsequently, there were fluctuations in rates until the early 1980s, followed by a notable decrease leading into the mid to late 1990s and the early 2000s, when rates reached their lowest levels."
      ]
    },
    {
      "cell_type": "markdown",
      "metadata": {
        "id": "0Kz4Lkdj_4kN"
      },
      "source": [
        "### Trend in male suicide rates"
      ]
    },
    {
      "cell_type": "code",
      "execution_count": null,
      "metadata": {
        "colab": {
          "background_save": true,
          "base_uri": "https://localhost:8080/",
          "height": 607
        },
        "id": "HPdA0_-v_3np",
        "outputId": "1cc43f61-e97e-4c46-ad75-3dce0daaeca9"
      },
      "outputs": [
        {
          "data": {
            "image/png": "[encoded data removed]",
            "text/plain": [
              "<Figure size 800x600 with 1 Axes>"
            ]
          },
          "metadata": {},
          "output_type": "display_data"
        }
      ],
      "source": [
        "# Group data by year and calculate mean suicide rates for men\n",
        "male_suicide_rates_by_year = suicide_rates.groupby('Year')['Male suicide rate (WHO (2005))'].mean()\n",
        "\n",
        "# Plot both trend lines on the same graph\n",
        "plt.figure(figsize=(8, 6))\n",
        "plt.plot(male_suicide_rates_by_year.index, male_suicide_rates_by_year, color='red', label='Male')\n",
        "plt.title('Trend in Male Suicide Rates')\n",
        "plt.xlabel('Year')\n",
        "plt.ylabel('Suicide Rate')\n",
        "plt.legend()\n",
        "\n",
        "# Set the y-axis to start from 0\n",
        "plt.ylim(0)\n",
        "\n",
        "plt.tight_layout()\n",
        "plt.show()"
      ]
    },
    {
      "cell_type": "markdown",
      "metadata": {
        "id": "Y6pCQBx5B2Vc"
      },
      "source": [
        "Observation:\n",
        "* There was an increase in male suicides between 1950 to 1960, exhibited by an upward trend in male suicide rates within that period, followed by a steep decline. Afterward, there was a steady increase until approximately 1980. Subsequently, there was a sharp increase, with notable fluctuations until the early 2000s, when rates experienced a sharp decline."
      ]
    },
    {
      "cell_type": "markdown",
      "metadata": {
        "id": "TmA3_qCzFLEJ"
      },
      "source": [
        "### Overall trend for both genders"
      ]
    },
    {
      "cell_type": "code",
      "execution_count": null,
      "metadata": {
        "colab": {
          "background_save": true,
          "base_uri": "https://localhost:8080/",
          "height": 807
        },
        "id": "Ug0Zeb59FOCt",
        "outputId": "54171d1d-f9c7-452b-d686-b28567675126"
      },
      "outputs": [
        {
          "data": {
            "image/png": "[encoded data removed]",
            "text/plain": [
              "<Figure size 1200x800 with 1 Axes>"
            ]
          },
          "metadata": {},
          "output_type": "display_data"
        }
      ],
      "source": [
        "# Group data by year and calculate mean suicide rates for both genders\n",
        "suicide_rates_by_year = suicide_rates.groupby('Year').mean(numeric_only=True)\n",
        "\n",
        "# Plot both trend lines on the same graph\n",
        "plt.figure(figsize=(12, 8))\n",
        "plt.plot(suicide_rates_by_year.index, suicide_rates_by_year['Female suicide rate (WHO (2005))'], color='blue', label='Female')\n",
        "plt.plot(suicide_rates_by_year.index, suicide_rates_by_year['Male suicide rate (WHO (2005))'], color='red', label='Male')\n",
        "plt.title('Suicide Rates by Year')\n",
        "plt.xlabel('Year')\n",
        "plt.ylabel('Suicide Rate')\n",
        "plt.legend()\n",
        "\n",
        "# Set the y-axis to start from 0\n",
        "plt.ylim(0)\n",
        "\n",
        "plt.tight_layout()\n",
        "plt.show()"
      ]
    },
    {
      "cell_type": "markdown",
      "metadata": {
        "id": "FrJZVP3ZFqf9"
      },
      "source": [
        "Observation:\n",
        "\n",
        "* Generally, suicide rates increased from 1950 to the 1970s and peaked in the early 1980s. Since the mid-1980s into the 2000s, suicide rates decreased.\n",
        "* Consistent with earlier findings, male suicide rates are upto three times higher than female suicide rates."
      ]
    },
    {
      "cell_type": "markdown",
      "metadata": {
        "id": "-XW0PJkmGMo7"
      },
      "source": [
        "## Analysis by year"
      ]
    },
    {
      "cell_type": "markdown",
      "metadata": {
        "id": "LTJTOGa0GRIs"
      },
      "source": [
        "Analyzing suicide rates by year is crucial for pinpointing specific events or trends that might have influenced suicide prevalence during those periods, allowing for the correlation of high or low suicide rates with significant historical events, economic changes, policy implementations, or societal shifts. Identifying the years with the highest and lowest suicide rates across both genders will facilitate a deeper understanding of the underlying factors driving these fluctuations."
      ]
    },
    {
      "cell_type": "markdown",
      "metadata": {
        "id": "xaWO733H07Kz"
      },
      "source": [
        "### Years with the highest suicide rates"
      ]
    },
    {
      "cell_type": "code",
      "execution_count": null,
      "metadata": {
        "colab": {
          "background_save": true,
          "base_uri": "https://localhost:8080/"
        },
        "id": "DPZ9ZeY3y7yf",
        "outputId": "c5977dac-d10a-4be4-bfe9-dd6fb87c987c"
      },
      "outputs": [
        {
          "name": "stdout",
          "output_type": "stream",
          "text": [
            "Top 10 years with the highest female suicide rates:\n",
            "Year\n",
            "1974    7.272507\n",
            "1982    7.258665\n",
            "1980    7.178175\n",
            "1973    7.151515\n",
            "1981    7.149359\n",
            "1983    7.140494\n",
            "1977    7.104166\n",
            "1984    6.887218\n",
            "1985    6.813580\n",
            "1979    6.801265\n",
            "Name: Female suicide rate (WHO (2005)), dtype: float64\n"
          ]
        }
      ],
      "source": [
        "# Sort the data by mean female suicide rates in descending order\n",
        "female_suicide_rates_by_year_sorted = female_suicide_rates_by_year.sort_values(ascending=False)\n",
        "\n",
        "# Get the top 10 years with the highest female suicide rates\n",
        "top_10_highest = female_suicide_rates_by_year_sorted.head(10)\n",
        "\n",
        "# Print the results\n",
        "print(\"Top 10 years with the highest female suicide rates:\")\n",
        "print(top_10_highest)\n"
      ]
    },
    {
      "cell_type": "code",
      "execution_count": null,
      "metadata": {
        "colab": {
          "background_save": true,
          "base_uri": "https://localhost:8080/"
        },
        "id": "LgPXy9GNG_jQ",
        "outputId": "583387e9-c2fb-46c8-c070-110c7323158b"
      },
      "outputs": [
        {
          "name": "stdout",
          "output_type": "stream",
          "text": [
            "Top 10 years with the highest male suicide rates:\n",
            "Year\n",
            "1982    23.269213\n",
            "1995    22.867205\n",
            "1994    22.558568\n",
            "1985    22.539587\n",
            "1981    22.403925\n",
            "1993    22.263061\n",
            "1998    21.550285\n",
            "1997    21.391201\n",
            "1996    21.384684\n",
            "1992    21.264800\n",
            "Name: Male suicide rate (WHO (2005)), dtype: float64\n"
          ]
        }
      ],
      "source": [
        "# Sort the data by mean male suicide rates in descending order\n",
        "male_suicide_rates_by_year_sorted = male_suicide_rates_by_year.sort_values(ascending=False)\n",
        "\n",
        "# Get the top 10 years with the highest male suicide rates\n",
        "top_10_highest = male_suicide_rates_by_year_sorted.head(10)\n",
        "\n",
        "# Print the results\n",
        "print(\"Top 10 years with the highest male suicide rates:\")\n",
        "print(top_10_highest)"
      ]
    },
    {
      "cell_type": "markdown",
      "metadata": {
        "id": "CLHe8s9AMR14"
      },
      "source": [
        "Observation:\n",
        "\n",
        "* The highest female suicide rates were observed between the early 1970s and later between the late 70s into the early to mid 80s. Specifically, the most female suicides occurred in 1974 followed by 1982. Conversely, the highest incidences of male suicides were witnessed in the early 1980s between 1982 to 1985, then from 1992 to 1998, with the highest occurrences in 1982.\n",
        "\n",
        "* These elevated suicide rates during the mid-1970s, 1980s, and the 1990s may be attributed, in part, to global recessions experienced in 1975, 1982, and 1991. These recessions were characterized by extended periods of stagflation, low output growth, high inflation, and elevated unemployment rates. The link between economic downturns and increased suicide rates is well-documented. The stressful environment following economic recessions, marked by rising unemployment and job insecurity, contributes significantly to psychological distress. This distress, compounded by financial crises, can escalate the prevalence of major depressive and anxiety disorders, potentially leading to higher suicide rates over time. Notably, these effects persist beyond the immediate crisis period, highlighting the lasting impact of economic downturns on mental health and suicide rates"
      ]
    },
    {
      "cell_type": "markdown",
      "metadata": {
        "id": "gjjxuo3_T1Sy"
      },
      "source": [
        "### Years with the lowest suicide rates"
      ]
    },
    {
      "cell_type": "code",
      "execution_count": null,
      "metadata": {
        "colab": {
          "background_save": true,
          "base_uri": "https://localhost:8080/"
        },
        "id": "ceq3piyH-GX8",
        "outputId": "00370456-4040-4d7a-c79f-9f6d60c1d9be"
      },
      "outputs": [
        {
          "name": "stdout",
          "output_type": "stream",
          "text": [
            "Top 10 years with the lowest female suicide rates:\n",
            "Year\n",
            "2001    4.807660\n",
            "2000    4.834220\n",
            "2003    4.948839\n",
            "2002    5.009908\n",
            "1999    5.167483\n",
            "1997    5.224144\n",
            "1996    5.297519\n",
            "1998    5.317515\n",
            "2004    5.556619\n",
            "1950    5.715680\n",
            "Name: Female suicide rate (WHO (2005)), dtype: float64\n"
          ]
        }
      ],
      "source": [
        "# Sort the data by mean female suicide rates in ascending order\n",
        "female_suicide_rates_by_year_sorted = female_suicide_rates_by_year.sort_values(ascending=True)\n",
        "\n",
        "# Get the top 10 years with the lowest female suicide rates\n",
        "top_10_lowest = female_suicide_rates_by_year_sorted.head(10)\n",
        "\n",
        "# Print the results\n",
        "print(\"Top 10 years with the lowest female suicide rates:\")\n",
        "print(top_10_lowest)"
      ]
    },
    {
      "cell_type": "code",
      "execution_count": null,
      "metadata": {
        "colab": {
          "background_save": true,
          "base_uri": "https://localhost:8080/"
        },
        "id": "Sv7HT6jLT6nq",
        "outputId": "6ef492ea-3eee-485f-9cd9-b874efe1cb9d"
      },
      "outputs": [
        {
          "name": "stdout",
          "output_type": "stream",
          "text": [
            "Top 10 years with the lowest male suicide rates:\n",
            "Year\n",
            "2004    14.506137\n",
            "1950    14.667237\n",
            "1951    15.042206\n",
            "1963    16.168954\n",
            "1962    16.196443\n",
            "1964    16.276015\n",
            "1965    16.435765\n",
            "1961    16.494860\n",
            "1966    16.596561\n",
            "1969    16.807367\n",
            "Name: Male suicide rate (WHO (2005)), dtype: float64\n"
          ]
        }
      ],
      "source": [
        "# Sort the data by mean male suicide rates in ascending order\n",
        "male_suicide_rates_by_year_sorted = male_suicide_rates_by_year.sort_values(ascending=True)\n",
        "\n",
        "# Get the top 10 years with the lowest male suicide rates\n",
        "top_10_lowest = male_suicide_rates_by_year_sorted.head(10)\n",
        "\n",
        "# Print the results\n",
        "print(\"Top 10 years with the lowest male suicide rates:\")\n",
        "print(top_10_lowest)"
      ]
    },
    {
      "cell_type": "markdown",
      "metadata": {
        "id": "NwnbflfYHU1c"
      },
      "source": [
        "Observation:\n",
        "* The years 2001, 2000, and 2003 had the lowest female suicide rates, with rates ranging from approximately 4.8 to 5.0 per 100,000 population. Similarly,  the early 2000s (2004) show the lowest male suicide rates within the period, followed by the early 1950s and 60s.\n",
        "\n",
        "* The early 2000s (2001-2004) consistently appear among the years with the lowest suicide rates among both men and women, indicating a potential positive trend or improvement in mental health and suicide prevention efforts during this period as well as positive economic trends in the global economy with lower incidences of economic downturns, unemployment and finacial crises."
      ]
    },
    {
      "cell_type": "markdown",
      "metadata": {
        "id": "dXFpDkudVibq"
      },
      "source": [
        "### Analysis by country"
      ]
    },
    {
      "cell_type": "markdown",
      "metadata": {
        "id": "RlkNMOre59Il"
      },
      "source": [
        "Analyzing suicide rates by country is essential for uncovering geographical variations and identifying factors that may contribute to differences in suicide prevalence among nations. Identifying countries with the highest and lowest suicide rates provides insights into the correlation between country-specific factors such as socio-economic conditions, cultural norms and attitudes towards mental health, healthcare accessibility and quality, among others, and mental health outcomes."
      ]
    },
    {
      "cell_type": "markdown",
      "metadata": {
        "id": "jlt5F7G1VnQa"
      },
      "source": [
        "#### Countries with the highest suicide rates"
      ]
    },
    {
      "cell_type": "code",
      "execution_count": null,
      "metadata": {
        "colab": {
          "background_save": true,
          "base_uri": "https://localhost:8080/"
        },
        "id": "CeEWtceS1T7r",
        "outputId": "e787a868-ebaa-45ef-e34e-e2e3c2588910"
      },
      "outputs": [
        {
          "name": "stdout",
          "output_type": "stream",
          "text": [
            "Top 10 countries with the highest mean female suicide rates:\n",
            "           Entity  Female suicide rate (WHO (2005))\n",
            "156       Somalia                         26.972969\n",
            "91           Laos                         23.723370\n",
            "72         Guyana                         21.247286\n",
            "103      Maldives                         19.889219\n",
            "34          China                         18.021471\n",
            "75        Hungary                         15.460148\n",
            "51   East Germany                         15.067797\n",
            "12     Bangladesh                         14.392731\n",
            "77          India                         14.306442\n",
            "85          Japan                         13.125696\n"
          ]
        }
      ],
      "source": [
        "# Group data by country and calculate mean female suicide rates\n",
        "female_suicide_rates_by_country = suicide_rates.groupby('Entity')['Female suicide rate (WHO (2005))'].mean().reset_index()\n",
        "\n",
        "# Sort the data by mean female suicide rates in descending order\n",
        "sorted_female_suicide_rates_by_country = female_suicide_rates_by_country.sort_values(by='Female suicide rate (WHO (2005))', ascending=False)\n",
        "\n",
        "# Select the top countries with the highest mean female suicide rates\n",
        "highest_female_suicide_rates_by_country = sorted_female_suicide_rates_by_country.head(10)\n",
        "\n",
        "# Display the top countries\n",
        "print(\"Top 10 countries with the highest mean female suicide rates:\")\n",
        "print(highest_female_suicide_rates_by_country)\n"
      ]
    },
    {
      "cell_type": "markdown",
      "metadata": {
        "id": "oEh3f2DhW9o4"
      },
      "source": [
        "Observation:\n",
        "\n",
        "* Somalia has the highest female suicide rate among the top 10 countries. This may be attributed to gender-based violence and discrimination that women in Somalia are subjected to including intimate partner violence, sexual violence and abuse, early and forced marriages, female genital mutilation, lack of education and limited economic freedom, among others. The situation extends to Laos, Maldives and Guyana where women are subject to various manifestations of gender inequality and violence.\n",
        "\n",
        "* China ranking among the countries with the highest female suicide rates ...\n",
        "\n",
        "* The high female suicide rates in Japan might have been a result of the Asian financial crisis experienced in the mid to late 1990s."
      ]
    },
    {
      "cell_type": "code",
      "execution_count": null,
      "metadata": {
        "colab": {
          "background_save": true,
          "base_uri": "https://localhost:8080/"
        },
        "id": "jWZNpRLOYB02",
        "outputId": "ab320e50-7885-4d77-9d0b-58d698c76444"
      },
      "outputs": [
        {
          "name": "stdout",
          "output_type": "stream",
          "text": [
            "Top 10 countries with the highest mean male suicide rates:\n",
            "         Entity  Male suicide rate (WHO (2005))\n",
            "97    Lithuania                       62.980662\n",
            "139      Russia                       55.434513\n",
            "72       Guyana                       50.072697\n",
            "57      Estonia                       49.313028\n",
            "92       Latvia                       48.927518\n",
            "75      Hungary                       46.718326\n",
            "14      Belarus                       46.234002\n",
            "87   Kazakhstan                       44.463585\n",
            "154    Slovenia                       42.190554\n",
            "178        USSR                       39.655779\n"
          ]
        }
      ],
      "source": [
        "# Group data by country and calculate mean male suicide rates\n",
        "male_suicide_rates_by_country = suicide_rates.groupby('Entity')['Male suicide rate (WHO (2005))'].mean().reset_index()\n",
        "\n",
        "# Sort the data by mean male suicide rates in descending order\n",
        "sorted_male_suicide_rates_by_country = male_suicide_rates_by_country.sort_values(by='Male suicide rate (WHO (2005))', ascending=False)\n",
        "\n",
        "# Select the top countries with the highest mean male suicide rates\n",
        "highest_male_suicide_rates_by_country = sorted_male_suicide_rates_by_country.head(10)\n",
        "\n",
        "# Display the top countries\n",
        "print(\"Top 10 countries with the highest mean male suicide rates:\")\n",
        "print(highest_male_suicide_rates_by_country)"
      ]
    },
    {
      "cell_type": "markdown",
      "metadata": {
        "id": "2P7Wb8GdZKym"
      },
      "source": [
        "Observation:\n",
        "* The top 10 countries with the highest mean male suicide rates are predominantly from Eastern Europe and the former Soviet Union, with Lithuania, Russia, and Guyana leading in male suicide rates.\n",
        "\n",
        "* Notably, all these countries with the exception of Guyana and Hungary are former Soviet states. This correlation highlights a potential link between historical events and contemporary mental health challenges. The dissolution of the Soviet Union in the early 1990s ushered in a period of profound social and economic upheaval across the region. The resulting social instability, economic hardships, and political changes had far-reaching effects, including on mental health. Research has indicated that the socio-economic disruptions caused by the USSR breakup contributed significantly to increased suicide prevalence in the former Soviet republics. The rapid transition from a centralized economy to market-based systems, along with the dismantling of social support structures, unemployment, poverty, and uncertainty, all created a stressful environment that may have increased instances of post traumatic stress disorder and depression and impacted mental well-being.\n",
        "\n",
        "* This underscores a regional trend where countries with historical ties or shared socio-economic factors exhibit higher rates of suicide, indicating potential cultural, social, or economic influences on mental health outcomes in these regions."
      ]
    },
    {
      "cell_type": "markdown",
      "metadata": {
        "id": "H0i54iQUdbhT"
      },
      "source": [
        "#### Countries with the lowest suicide rates"
      ]
    },
    {
      "cell_type": "code",
      "execution_count": null,
      "metadata": {
        "colab": {
          "background_save": true,
          "base_uri": "https://localhost:8080/"
        },
        "id": "fglMbHj9duea",
        "outputId": "e42a36fa-bee8-4cc6-d9c1-f54181ea304c"
      },
      "outputs": [
        {
          "name": "stdout",
          "output_type": "stream",
          "text": [
            "Top 10 countries with the lowest mean female suicide rates:\n",
            "                   Entity  Female suicide rate (WHO (2005))\n",
            "86                 Jordan                          0.107824\n",
            "150            Seychelles                          0.181349\n",
            "53                  Egypt                          0.231432\n",
            "181  United Arab Emirates                          0.274215\n",
            "43                 Cyprus                          0.275474\n",
            "68                Grenada                          0.343973\n",
            "23                 Brunei                          0.375145\n",
            "166                 Syria                          0.446933\n",
            "127                  Oman                          0.510550\n",
            "13               Barbados                          0.706948\n"
          ]
        }
      ],
      "source": [
        "# Sort the data by mean female suicide rates in ascending order\n",
        "sorted_female_suicide_rates_by_country = female_suicide_rates_by_country.sort_values(by='Female suicide rate (WHO (2005))', ascending=True)\n",
        "\n",
        "# Select the top countries with the lowest mean female suicide rates\n",
        "lowest_female_suicide_rates_by_country = sorted_female_suicide_rates_by_country.head(10)\n",
        "\n",
        "# Display the top countries\n",
        "print(\"Top 10 countries with the lowest mean female suicide rates:\")\n",
        "print(lowest_female_suicide_rates_by_country)"
      ]
    },
    {
      "cell_type": "code",
      "execution_count": null,
      "metadata": {
        "colab": {
          "background_save": true,
          "base_uri": "https://localhost:8080/"
        },
        "id": "XeKTw6LDfn0_",
        "outputId": "3bbf6676-2d25-4088-ee0e-35bc738e2aba"
      },
      "outputs": [
        {
          "name": "stdout",
          "output_type": "stream",
          "text": [
            "Top 10 countries with the lowest mean male suicide rates:\n",
            "                   Entity  Male suicide rate (WHO (2005))\n",
            "86                 Jordan                        0.283630\n",
            "53                  Egypt                        0.356142\n",
            "166                 Syria                        0.597566\n",
            "43                 Cyprus                        0.980029\n",
            "89                 Kuwait                        1.142558\n",
            "181  United Arab Emirates                        1.806055\n",
            "73                  Haiti                        2.085222\n",
            "114               Morocco                        2.114464\n",
            "133                  Peru                        2.261821\n",
            "23                 Brunei                        2.314273\n"
          ]
        }
      ],
      "source": [
        "# Sort the data by mean male suicide rates in ascending order\n",
        "sorted_male_suicide_rates_by_country = male_suicide_rates_by_country.sort_values(by='Male suicide rate (WHO (2005))', ascending=True)\n",
        "\n",
        "# Select the top countries with the lowest mean male suicide rates\n",
        "lowest_male_suicide_rates_by_country = sorted_male_suicide_rates_by_country.head(10)\n",
        "\n",
        "# Display the top countries\n",
        "print(\"Top 10 countries with the lowest mean male suicide rates:\")\n",
        "print(lowest_male_suicide_rates_by_country)"
      ]
    },
    {
      "cell_type": "markdown",
      "metadata": {
        "id": "2o6yi4TZ_uhl"
      },
      "source": [
        "Observation:\n",
        "\n",
        "* Jordan, Egypt, United Arab Emirates, Cyprus, Syria, and Brunei feature on both lists with the lowest female and male suicide rates. Particularly noteworthy is Jordan, with the lowest suicide rates among both women (0.1 per 100,000) and men (0.28 per 100,000).\n",
        "\n",
        "* A notable trend among these countries is their predominantly Muslim population. Research indicates that religion, especially in areas with higher religious homogeneity like Muslim-majority countries, serves as a protective factor against suicide. Islam, in particular, holds the lowest permissiveness level towards suicide among major religions globally.\n",
        "\n",
        "* Suicide rates in most Muslim-majority countries consistently remain lower than the global average. This trend is attributed to both religious influences and the integration of Islamic principles into governance and social systems in these countries. Additionally, the stigma surrounding suicide in Muslim countries may contribute to underreporting, leading to lower recorded suicide rates.\n",
        "\n",
        "* This religious influence and cultural attitude towards suicide might explain the observed trend of lower suicide rates in these countries.\n"
      ]
    },
    {
      "cell_type": "markdown",
      "metadata": {
        "id": "u29wGqv6JS4C"
      },
      "source": [
        "### Bivariate analysis"
      ]
    },
    {
      "cell_type": "markdown",
      "metadata": {
        "id": "hPYmuK31KYNU"
      },
      "source": [
        " It is widely recognized that male suicide rates tend to be significantly higher than female suicide rates, often three to five times higher. This section delves deeper into this gender disparity in suicide rates, examining how it manifests across different countries with varying levels of suicide prevalence among men and women. This comparative analysis will not only shed light on the magnitude of the gender gap in suicide rates but also provide valuable insights into the factors contributing to this disparity and the potential implications for suicide prevention strategies."
      ]
    },
    {
      "cell_type": "markdown",
      "metadata": {
        "id": "f9NEzK09gOar"
      },
      "source": [
        "#### Comparison of male and female suicide rates in countries with the highest female suicide rates"
      ]
    },
    {
      "cell_type": "code",
      "execution_count": null,
      "metadata": {
        "colab": {
          "background_save": true,
          "base_uri": "https://localhost:8080/",
          "height": 807
        },
        "id": "fLQSG4iA2Yng",
        "outputId": "12473467-6370-47f8-ed83-470e1fbe050c"
      },
      "outputs": [
        {
          "data": {
            "image/png": "[encoded data removed]",
            "text/plain": [
              "<Figure size 1200x800 with 1 Axes>"
            ]
          },
          "metadata": {},
          "output_type": "display_data"
        }
      ],
      "source": [
        "# Merge highest female suicide rates with male suicide rates\n",
        "merged_rates = pd.merge(highest_female_suicide_rates_by_country, male_suicide_rates, on='Entity', suffixes=('_female', '_male'))\n",
        "\n",
        "# Plotting\n",
        "plt.figure(figsize=(12, 8))\n",
        "for index, row in merged_rates.iterrows():\n",
        "    plt.bar([row['Entity'] + ' Female', row['Entity'] + ' Male'], [row['Female suicide rate (WHO (2005))'], row['Male suicide rate (WHO (2005))']], color=['green', 'blue'])\n",
        "\n",
        "plt.title('Male vs. Female Suicide Rates in Countries with Highest Female Suicide Rates')\n",
        "plt.ylabel('Suicide Rate')\n",
        "plt.xticks(rotation=90)\n",
        "plt.tight_layout()\n",
        "plt.show()\n"
      ]
    },
    {
      "cell_type": "markdown",
      "source": [
        "#### Comparison of male and female suicide rates in countries with the lowest female suicide rates"
      ],
      "metadata": {
        "id": "z6fE75neAbBI"
      }
    },
    {
      "cell_type": "code",
      "execution_count": null,
      "metadata": {
        "colab": {
          "base_uri": "https://localhost:8080/",
          "height": 807
        },
        "id": "0b0szVSH4b1w",
        "outputId": "dfd3eb75-6de0-4122-fdc7-28a6eaa7d263"
      },
      "outputs": [
        {
          "output_type": "display_data",
          "data": {
            "text/plain": [
              "<Figure size 1200x800 with 1 Axes>"
            ],
            "image/png": "[encoded data removed]"
          },
          "metadata": {}
        }
      ],
      "source": [
        "# Merge highest female suicide rates with male suicide rates\n",
        "merged_rates = pd.merge(lowest_female_suicide_rates_by_country, male_suicide_rates, on='Entity', suffixes=('_female', '_male'))\n",
        "\n",
        "# Plotting\n",
        "plt.figure(figsize=(12, 8))\n",
        "for index, row in merged_rates.iterrows():\n",
        "    plt.bar([row['Entity'] + ' Female', row['Entity'] + ' Male'], [row['Female suicide rate (WHO (2005))'], row['Male suicide rate (WHO (2005))']], color=['green', 'blue'])\n",
        "\n",
        "plt.title('Male vs. Female Suicide Rates in Countries with Lowest Female Suicide Rates')\n",
        "plt.ylabel('Suicide Rate')\n",
        "plt.xticks(rotation=90)\n",
        "plt.tight_layout()\n",
        "plt.show()"
      ]
    },
    {
      "cell_type": "markdown",
      "metadata": {
        "id": "k233shy0je7-"
      },
      "source": [
        "### Distribution of female suicide rates across the years"
      ]
    },
    {
      "cell_type": "code",
      "execution_count": null,
      "metadata": {
        "id": "b28OpF1tjd_m"
      },
      "outputs": [],
      "source": [
        "# plt.figure(figsize = (12,10))\n",
        "# sns.boxplot(x='Year', y='Female suicide rate (WHO (2005))', data=female_suicide_rates)\n",
        "# plt.xlabel('Year')\n",
        "# plt.ylabel('Suicide Rate')\n",
        "# plt.title('Distribution of Female Suicide Rates by Year')\n",
        "# plt.xticks(rotation=90)\n",
        "# plt.show()\n",
        "# Merge lowest male suicide rates with female suicide rates\n",
        "merged_rates = pd.merge(lowest_male_suicide_rates_by_country, female_suicide_rates, on='Entity', suffixes=('_female', '_male'))\n"
      ]
    },
    {
      "cell_type": "markdown",
      "metadata": {
        "id": "-xcMN1_hkjlM"
      },
      "source": [
        "#### Comparison of male and female suicide rates in countries with the highest male suicide rates"
      ]
    },
    {
      "cell_type": "code",
      "execution_count": null,
      "metadata": {
        "id": "NpkATyKYkvss",
        "colab": {
          "base_uri": "https://localhost:8080/",
          "height": 807
        },
        "outputId": "f669c798-dcb8-4366-fb3e-80d48f898c88"
      },
      "outputs": [
        {
          "output_type": "display_data",
          "data": {
            "text/plain": [
              "<Figure size 1200x800 with 1 Axes>"
            ],
            "image/png": "[encoded data removed]"
          },
          "metadata": {}
        }
      ],
      "source": [
        "# Merge highest female suicide rates with male suicide rates\n",
        "merged_rates = pd.merge(highest_male_suicide_rates_by_country, female_suicide_rates, on='Entity', suffixes=('_female', '_male'))\n",
        "\n",
        "# Plotting\n",
        "plt.figure(figsize=(12, 8))\n",
        "for index, row in merged_rates.iterrows():\n",
        "    plt.bar([row['Entity'] + ' Female', row['Entity'] + ' Male'], [row['Female suicide rate (WHO (2005))'], row['Male suicide rate (WHO (2005))']], color=['green', 'blue'])\n",
        "\n",
        "plt.title('Male vs. Female Suicide Rates in Countries with Highest Male Suicide Rates')\n",
        "plt.ylabel('Suicide Rate')\n",
        "plt.xticks(rotation=90)\n",
        "plt.tight_layout()\n",
        "plt.show()"
      ]
    },
    {
      "cell_type": "markdown",
      "metadata": {
        "id": "M646J8EWlslq"
      },
      "source": [
        "#### Comparison of male and female suicide rates in countries with the lowest male suicide rates"
      ]
    },
    {
      "cell_type": "code",
      "execution_count": null,
      "metadata": {
        "id": "Jqq4yXBVl1hw",
        "colab": {
          "base_uri": "https://localhost:8080/",
          "height": 807
        },
        "outputId": "97f00c1c-95b0-46a4-a81a-b4cfe5b9f604"
      },
      "outputs": [
        {
          "output_type": "display_data",
          "data": {
            "text/plain": [
              "<Figure size 1200x800 with 1 Axes>"
            ],
            "image/png": "[encoded data removed]"
          },
          "metadata": {}
        }
      ],
      "source": [
        "# Merge lowest male suicide rates with female suicide rates\n",
        "merged_rates = pd.merge(lowest_male_suicide_rates_by_country, female_suicide_rates, on='Entity', suffixes=('_female', '_male'))\n",
        "\n",
        "# Plotting\n",
        "plt.figure(figsize=(12, 8))\n",
        "for index, row in merged_rates.iterrows():\n",
        "    plt.bar([row['Entity'] + ' Female', row['Entity'] + ' Male'], [row['Female suicide rate (WHO (2005))'], row['Male suicide rate (WHO (2005))']], color=['green', 'blue'])\n",
        "\n",
        "plt.title('Male vs. Female Suicide Rates in Countries with Lowest Male Suicide Rates')\n",
        "plt.ylabel('Suicide Rate')\n",
        "plt.xticks(rotation=90)\n",
        "plt.tight_layout()\n",
        "plt.show()"
      ]
    },
    {
      "cell_type": "markdown",
      "metadata": {
        "id": "6xbH1R5ZVPr9"
      },
      "source": [
        "## Findings"
      ]
    },
    {
      "cell_type": "markdown",
      "metadata": {
        "id": "1VoXq3cEWy7r"
      },
      "source": [
        "* Female suicide rates exhibited a consistent decline from the early 1980s to 2004. The peak of female suicide rates occurred in the early 1980s, followed by a notable decrease leading into the mid to late 1990s and the early 2000s, where rates reached their lowest levels.\n",
        "\n",
        "* Somalia recorded the highest female suicide rate at 26.97 per 100,000 population, while Jordan recorded the lowest rate.\n",
        "\n",
        "* Male suicide rates far surpassed female rates both in countries where the highest and lowest female suicide rates were recorded, nearly tripling them. This corroborates research highlighting that males are more inclined to suicide than females.\n",
        "\n",
        "* Male suicide rates experienced a significant increase from 1980 to the early 2000s, followed by a sharp decline.\n",
        "\n",
        "* Lithuania exhibited the highest male suicide rate at approximately 62.98 per 100,000 population.\n",
        "\n",
        "* Hungary stood out for having high suicide rates among both men and women. In contrast, Jordan had the lowest suicide rates among both genders."
      ]
    },
    {
      "cell_type": "markdown",
      "source": [
        "## Conclusions"
      ],
      "metadata": {
        "id": "KDmIMCL2W7Vk"
      }
    },
    {
      "cell_type": "markdown",
      "source": [
        "## Next steps"
      ],
      "metadata": {
        "id": "i3yF-ngkW9c0"
      }
    },
    {
      "cell_type": "code",
      "source": [],
      "metadata": {
        "id": "Er79qcmMXAa0"
      },
      "execution_count": null,
      "outputs": []
    }
  ],
  "metadata": {
    "colab": {
      "provenance": [],
      "authorship_tag": "ABX9TyNYS4UG3Av4lAYtXpvP1z9Z",
      "include_colab_link": true
    },
    "kernelspec": {
      "display_name": "Python 3",
      "name": "python3"
    },
    "language_info": {
      "name": "python"
    }
  },
  "nbformat": 4,
  "nbformat_minor": 0
}